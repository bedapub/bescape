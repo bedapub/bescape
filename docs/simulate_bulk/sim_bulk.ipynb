{
 "cells": [
  {
   "cell_type": "code",
   "execution_count": 1,
   "metadata": {
    "scrolled": true
   },
   "outputs": [
    {
     "name": "stderr",
     "output_type": "stream",
     "text": [
      "/Users/mqp/miniconda3/envs/besca/lib/python3.7/site-packages/scanpy/api/__init__.py:7: FutureWarning: \n",
      "\n",
      "In a future version of Scanpy, `scanpy.api` will be removed.\n",
      "Simply use `import scanpy as sc` and `import scanpy.external as sce` instead.\n",
      "\n",
      "  FutureWarning,\n",
      "/Users/mqp/miniconda3/envs/besca/lib/python3.7/site-packages/umap/spectral.py:4: NumbaDeprecationWarning:\n",
      "\n",
      "No direct replacement for 'numba.targets' available. Visit https://gitter.im/numba/numba-dev to request help. Thanks!\n",
      "\n"
     ]
    }
   ],
   "source": [
    "# load required modules\n",
    "import scanpy.api as sc\n",
    "import besca as bc\n",
    "import pandas as pd\n",
    "import numpy as np\n",
    "from matplotlib import pyplot\n",
    "import os\n",
    "import sys\n",
    "np.random.seed(42)"
   ]
  },
  {
   "cell_type": "markdown",
   "metadata": {},
   "source": [
    "# Simulate Bulk\n",
    "Define simulate_bulk function:"
   ]
  },
  {
   "cell_type": "code",
   "execution_count": 4,
   "metadata": {
    "scrolled": true
   },
   "outputs": [],
   "source": [
    "def simulate_bulk(gep, n=10, filename_sim='simulated_blk-ensg-gene-expr.csv', filename_truth='truth.csv'):\n",
    "    \"\"\"Simulate bulk RNA-seq from a GEP\n",
    "    \n",
    "    GEP should be normalised. Simulates bulk according to the linear regression model\n",
    "    \n",
    "    y = X*w^T\n",
    "    \n",
    "    where y=bulk, X=GEP, w^T=cell fractions\n",
    "    \n",
    "    Args:\n",
    "        gep(pandas.DataFrame): normalised gene expression profile (GEP)\n",
    "        n(int): number of patients to simulate\n",
    "        \n",
    "    Returns:\n",
    "        Writes out 2 .csv files: bulk.csv and truth.csv, \n",
    "        both in the same format as the DREAM Tumor Deconvolution challenge i/o standards.\n",
    "        \n",
    "        Returns pandas.DataFrames of simulated bulk and truth\n",
    "    \n",
    "    \"\"\"\n",
    "\n",
    "    genes = gep.index.values.tolist()\n",
    "    subjects = []\n",
    "    f_list = []\n",
    "    b_array = np.zeros(shape = (n, gep.shape[0]))\n",
    "\n",
    "    for i in range(n):\n",
    "        subjects.append('S{}'.format(i))\n",
    "\n",
    "        f = np.random.uniform(size=gep.shape[1])\n",
    "        f *= 1.0/sum(f)\n",
    "        f_list.append(f)\n",
    "        X = gep.values\n",
    "        b = X.dot(f)\n",
    "        b_array[i]=b\n",
    "\n",
    "    sim_df = pd.DataFrame(np.transpose(b_array), columns = subjects)\n",
    "    sim_df.insert(0, column='Gene', value=genes)\n",
    "    sim_df.to_csv(os.path.join(outdir_simulated, filename_sim), header=True, index=False)\n",
    "    \n",
    "    # output truth file\n",
    "    g_df = pd.DataFrame( columns = ['dataset.name', 'sample.id', 'cell.type', 'measured'])\n",
    "    for i, s in enumerate(subjects):  \n",
    "        dataset_name = 'GSE134809'\n",
    "        out_df = pd.DataFrame( columns = ['dataset.name', 'sample.id', 'cell.type', 'measured'])\n",
    "        out_df['cell.type'] = gep.columns.tolist()\n",
    "        out_df['measured'] = f_list[i]\n",
    "        out_df['dataset.name'] = dataset_name\n",
    "        out_df['sample.id'] = s\n",
    "\n",
    "        g_df = g_df.append(out_df, ignore_index=True)\n",
    "\n",
    "    g_df.to_csv(os.path.join(outdir_truth, filename_truth), header=True, index=False)\n",
    "    \n",
    "    return sim_df, g_df\n",
    "\n"
   ]
  },
  {
   "cell_type": "code",
   "execution_count": 3,
   "metadata": {},
   "outputs": [],
   "source": [
    "\n",
    "\n",
    "# gene expression matrix to simulate from. Can be generated using besca.export.generate_gep function\n",
    "input_dir = './gep/'\n",
    "input_file = 'segerstolpe_gep_sum.csv'\n",
    "input_data = os.path.join(input_dir, input_file)\n",
    "\n",
    "# output folder for simulated bulk and truth\n",
    "outdir_simulated = './output/simulated'\n",
    "outdir_truth = './output/truth'\n",
    "\n",
    "if not os.path.exists(outdir_simulated):\n",
    "    os.makedirs(outdir_simulated)\n",
    "if not os.path.exists(outdir_truth):\n",
    "    os.makedirs(outdir_truth)\n",
    "\n",
    "gep = pd.read_csv(input_data, sep=',', index_col='NAME')\n",
    "#gep = gep.drop(['Description', 'others'], axis=1)\n",
    "#gep = gep.drop(['Description'], axis=1) "
   ]
  },
  {
   "cell_type": "markdown",
   "metadata": {},
   "source": [
    "### Generate GEP and run simulate_bulk\n",
    "**Note:** must change following paths:\n",
    "\n",
    "`outdir_simulated`\\\n",
    "`outdir_truth`\\\n",
    "`filename`\n",
    "\n",
    "As an example we are simulating on a dataset from Segerstolpe et al. https://www.ebi.ac.uk/arrayexpress/experiments/E-MTAB-5061/"
   ]
  },
  {
   "cell_type": "code",
   "execution_count": null,
   "metadata": {},
   "outputs": [],
   "source": [
    "# first generate GEP for segerstolpe\n",
    "path_segerstolpe = '/path/to/anndata/segerstolpe.h5ad'\n",
    "adata_seg = sc.read(path_segerstolpe)\n",
    "bc.export.generate_gep(adata_seg,\n",
    "                       filename='segerstolpe_gep.csv',\n",
    "                       column='dblabel',\n",
    "                       annot='ENSEMBL',\n",
    "                       outpath=os.getcwd())"
   ]
  },
  {
   "cell_type": "code",
   "execution_count": null,
   "metadata": {},
   "outputs": [],
   "source": [
    "# Load data\n",
    "# Define directories\n",
    "\n",
    "# gene expression matrix to simulate from\n",
    "input_dir = './'\n",
    "input_file = 'segerstolpe_gep.csv'\n",
    "input_data = os.path.join(input_dir, input_file)\n",
    "\n",
    "# output folder for simulated bulk and truth\n",
    "outdir_simulated = './output/simulated'\n",
    "outdir_truth = './output/truth'\n",
    "filename_simbulk = 'simulated_blk_segerstolpe.csv'\n",
    "filename_truth = 'truth_segerstolpe.csv'\n",
    "\n",
    "if not os.path.exists(outdir_simulated):\n",
    "    os.makedirs(outdir_simulated)\n",
    "if not os.path.exists(outdir_truth):\n",
    "    os.makedirs(outdir_truth)\n",
    "\n",
    "gep = pd.read_csv(input_data, sep=',', index_col='NAME')"
   ]
  },
  {
   "cell_type": "code",
   "execution_count": 9,
   "metadata": {},
   "outputs": [],
   "source": [
    "sim_df, truth_df = simulate_bulk(gep, filename_sim=filename_simbulk, filename_truth=filename_truth)"
   ]
  },
  {
   "cell_type": "markdown",
   "metadata": {},
   "source": [
    "generate simulated bulk with HUGO symbols"
   ]
  },
  {
   "cell_type": "code",
   "execution_count": null,
   "metadata": {},
   "outputs": [],
   "source": [
    "filename_truth_hugo = 'truth_segerstolpe_hugo.csv'\n",
    "filename_sim_hugo = 'simulated_blk_segerstolpe_hugo.csv'"
   ]
  },
  {
   "cell_type": "code",
   "execution_count": 15,
   "metadata": {},
   "outputs": [
    {
     "name": "stdout",
     "output_type": "stream",
     "text": [
      "Choosing column: [ dblabel ]for cell annotations\n",
      "Loading gene expression from adata.raw.X\n",
      "Calculating average expression per cell type per gene\n",
      "segerstolpe_hugo_gep.csv exported successfully to file\n"
     ]
    }
   ],
   "source": [
    "# generate another GEP but with HUGO\n",
    "bc.export.generate_gep(adata_seg,\n",
    "                       filename='segerstolpe_hugo_gep.csv',\n",
    "                       column='dblabel',\n",
    "                       annot='SYMBOL',\n",
    "                       outpath=os.getcwd())"
   ]
  },
  {
   "cell_type": "code",
   "execution_count": 17,
   "metadata": {},
   "outputs": [],
   "source": [
    "input_dir = './'\n",
    "input_file = 'segerstolpe_hugo_gep.csv'\n",
    "input_data = os.path.join(input_dir, input_file)\n",
    "\n",
    "gep = pd.read_csv(input_data, sep=',', index_col='NAME')"
   ]
  },
  {
   "cell_type": "code",
   "execution_count": 20,
   "metadata": {},
   "outputs": [],
   "source": [
    "sim_df, truth_df = simulate_bulk(gep, filename_sim=filename_sim_hugo, filename_truth=filename_truth_hugo)"
   ]
  }
 ],
 "metadata": {
  "kernelspec": {
   "display_name": "Python 3",
   "language": "python",
   "name": "python3"
  },
  "language_info": {
   "codemirror_mode": {
    "name": "ipython",
    "version": 3
   },
   "file_extension": ".py",
   "mimetype": "text/x-python",
   "name": "python",
   "nbconvert_exporter": "python",
   "pygments_lexer": "ipython3",
   "version": "3.7.1"
  }
 },
 "nbformat": 4,
 "nbformat_minor": 2
}
