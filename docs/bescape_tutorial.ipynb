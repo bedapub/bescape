{
 "cells": [
  {
   "cell_type": "markdown",
   "metadata": {},
   "source": [
    "# BESCAPE - tutorial on deconvolution of bulk RNA using single-cell annotations\n",
    "\n",
    "BESCAPE (BESCA Proportion Estimator) is a deconvolution module. It utilises single-cell annotations coming from the BESCA workflow to build a Gene Expression Profile (GEP). This GEP is used as a basis vector to deconvolute bulk RNA samples i.e. predict cell type proportions within a sample.\n",
    "\n",
    "BESCAPE has a useful implementation, whereby the user can specify their own GEP, as well as choose any of the supported deconvolution methods. Thus, it effectively allows decoupling of the deconvolution algorithm from its underlying GEP (basis vector).\n",
    "\n",
    "This tutorial presents the workflow for deconvolution, as well as the link to BESCA single-cell annotations.\n",
    "\n",
    "We assume that either Docker or Singularity services have already been installed.\n",
    "\n",
    "Install bescape using `pip install bescape`.\n",
    "Please note: If you had previously installed bescape, please upgrade to the latest version:\n",
    "`pip install --upgrade bescape`"
   ]
  },
  {
   "cell_type": "markdown",
   "metadata": {},
   "source": [
    "# Initialising the predictor object\n",
    "\n",
    "Initiate the decovnolution predictor object. Requires either a Docker, or a Singularity image to run. Both methods are shown below.\n",
    "\n",
    "## 1. Docker\n",
    "To initiate the Bescape deconvolution object, we to set the service to 'docker' and docker_image='bedapub/bescape:version'. It will first look for local docker images, and if not available, will pull the bescape image from DockerHub. This also means that one can locally build a customised Docker image from the BESCAPE source and set use it in the Bescape object.\n",
    "\n",
    "Please note: If you had previously installed the docker_image, please make sure it is the latest version using:\n",
    "\n",
    "`docker pull bedapub/bescape:latest`"
   ]
  },
  {
   "cell_type": "code",
   "execution_count": 1,
   "metadata": {},
   "outputs": [
    {
     "name": "stdout",
     "output_type": "stream",
     "text": [
      "Docker client instantiated\n",
      "Local Docker image found:  bedapub/bescape:latest\n"
     ]
    }
   ],
   "source": [
    "import os\n",
    "from bescape import Bescape\n",
    "\n",
    "# docker\n",
    "# may take some time if the docker image is being built for the first time\n",
    "deconv = Bescape(service='docker', docker_image='bedapub/bescape:latest')"
   ]
  },
  {
   "cell_type": "markdown",
   "metadata": {},
   "source": [
    "#### Troubleshooting Docker permission error\n",
    "If running a permission error to run the docker image, please follow the steps in https://askubuntu.com/questions/477551/how-can-i-use-docker-without-sudo to run docker without sudo\n",
    "\n",
    "Namely,\n",
    "Add the docker group if it doesn't already exist:\n",
    "\n",
    "`sudo groupadd docker`\n",
    "\n",
    "Add the connected user \"$USER\" to the docker group. Change the user name to match your preferred user if you do not want to use your current user:\n",
    "\n",
    "`sudo gpasswd -a $USER docker`\n",
    "    \n",
    "Either do a newgrp docker or log out/in to activate the changes to groups.\n"
   ]
  },
  {
   "cell_type": "markdown",
   "metadata": {},
   "source": [
    "## 2. Singularity\n",
    "When using Singularity, the user specifies the absolute path for the Singularity container file. \n",
    "\n",
    "If the path is not given, Bescape will attempt to pull the lastest docker image from Dockerhub and build a new copy of a Singularity container file. In this case, the `docker_image` parameter specifies which image is pulled from the DockerHub to be converted to a Singularity container."
   ]
  },
  {
   "cell_type": "code",
   "execution_count": null,
   "metadata": {},
   "outputs": [],
   "source": [
    "import os\n",
    "from bescape import Bescape\n",
    "\n",
    "# singularity\n",
    "deconv = Bescape(service='singularity', docker_image='bedapub/bescape:latest', path_singularity=None)"
   ]
  },
  {
   "cell_type": "markdown",
   "metadata": {},
   "source": [
    "# Performing Deconvolution\n",
    "Once the Bescape object has been initialised, the methods are the same for both `docker` and `singularity`.\n",
    "\n",
    "## Input file structure\n",
    "The correct example file input structure is shown here: https://github.com/bedapub/bescape/tree/master/docs/datasets/bescape\n",
    "\n",
    "The user needs to provide:\n",
    "1. Absolute path to the input FOLDER containing the [input.csv](https://github.com/bedapub/bescape/blob/master/docs/datasets/bescape/input/input.csv) file and the [bulk.csv](https://github.com/bedapub/bescape/blob/master/docs/datasets/bescape/input/ds1_ensg.csv) file (rows= bulk gene expression, columns=samples)\n",
    "2. Absolute path to the gep FOLDER containing the GEP file to be used as a basis vector for deconvolution\n",
    "\n",
    "\n"
   ]
  },
  {
   "cell_type": "markdown",
   "metadata": {},
   "source": [
    "## Using a single-cell annotation AnnData object as a basis vector\n",
    "- should contain single-cell annotations of multiple samples from which the deconvolution method generates its own GEP\n",
    "- currently supported packages:\n",
    "    1. MuSiC\n",
    "    2. SCDC\n",
    "- __The packages above are written in R. Thus, we need to convert the AnnData objects to R ExpressionSet objects. This has been semi-automated in the following notebook: [Converting AnnData to Eset](https://bedapub.github.io/besca/tutorials/adata_to_eset.html)__\n",
    "- implemented in the __Bescape.deconvolute_sc( )__ method"
   ]
  },
  {
   "cell_type": "markdown",
   "metadata": {},
   "source": [
    "### 1. Set input file structure and download example files\n",
    "The correct example file input structure is shown here: https://github.com/bedapub/bescape/tree/master/docs/datasets/bescape\n",
    "\n",
    "The user needs to provide:\n",
    "1. Absolute path to the input FOLDER containing the [input.csv](https://github.com/bedapub/bescape/blob/master/docs/tutorial_data/input/input.csv) file and the [bulk.csv](https://github.com/bedapub/bescape/blob/master/docs/tutorial_data/input/simulated_blk_segerstolpe_hugo.csv) file (rows= bulk gene expression, columns=samples)\n",
    "2. Absolute path to the gep FOLDER containing the GEP file to be used as a basis vector for deconvolution\n",
    "3. Absolute path to the output FOLDER, into which the deconvolution results should be written out\n",
    "\n",
    "The following cell handles folder creation and example file download for this tutorial"
   ]
  },
  {
   "cell_type": "code",
   "execution_count": 2,
   "metadata": {},
   "outputs": [
    {
     "data": {
      "text/plain": [
       "('/home/tkamth/bescape/docs/tutorial_data/gep/segerstolpe_raw_exp_eset.RDS',\n",
       " <http.client.HTTPMessage at 0x7fb2e60ca910>)"
      ]
     },
     "execution_count": 2,
     "metadata": {},
     "output_type": "execute_result"
    }
   ],
   "source": [
    "import urllib.request\n",
    "\n",
    "# Important to specify ABSOLUTE directory paths\n",
    "wd = os.getcwd()\n",
    "dir_annot = wd + '/tutorial_data/gep'\n",
    "dir_input = wd + '/tutorial_data/input'\n",
    "dir_output = wd + '/tutorial_data/output'\n",
    "dirlist = [dir_annot, dir_input, dir_output]\n",
    "for directory in dirlist:\n",
    "    if not os.path.exists(directory):\n",
    "        os.makedirs(directory)\n",
    "    \n",
    "\n",
    "uri_input = 'https://raw.githubusercontent.com/bedapub/bescape/master/docs/tutorial_data/input/input.csv'\n",
    "urllib.request.urlretrieve(uri_input, dir_input + '/input.csv')\n",
    "\n",
    "uri_sample = 'https://raw.githubusercontent.com/bedapub/bescape/master/docs/tutorial_data/input/simulated_blk_segerstolpe_hugo.csv'\n",
    "urllib.request.urlretrieve(uri_sample, dir_input + '/simulated_blk_segerstolpe_hugo.csv')\n",
    "\n",
    "uri_baron = 'https://raw.githubusercontent.com/bedapub/bescape/master/docs/tutorial_data/gep/baron_raw_exp_eset.RDS'\n",
    "uri_seger = 'https://raw.githubusercontent.com/bedapub/bescape/master/docs/tutorial_data/gep/segerstolpe_raw_exp_eset.RDS'\n",
    "urllib.request.urlretrieve(uri_baron, dir_annot + '/baron_raw_exp_eset.RDS')\n",
    "urllib.request.urlretrieve(uri_seger, dir_annot + '/segerstolpe_raw_exp_eset.RDS')\n"
   ]
  },
  {
   "cell_type": "markdown",
   "metadata": {},
   "source": [
    "### 1. MuSiC\n",
    "`dir_annot` should contain only one annotated ExpressionSet. If more are available, the first one in alphabetical order is picked"
   ]
  },
  {
   "cell_type": "code",
   "execution_count": null,
   "metadata": {
    "scrolled": true
   },
   "outputs": [],
   "source": [
    "# deconvolute using MuSiC - sc based basis vector\n",
    "deconv.deconvolute_sc(dir_annot= dir_annot, \n",
    "                      dir_input= dir_input,\n",
    "                      dir_output= dir_output, \n",
    "                      method='music')"
   ]
  },
  {
   "cell_type": "markdown",
   "metadata": {},
   "source": [
    "### 2. SCDC\n",
    "\n",
    "Using SCDC requires the following parameters:\n",
    "* `dir_annot` can contain one or more sc-annotation ExpressionSets. If more that one is available, SCDC reads all of them and performs [ENSEMBLE deconvolution](https://rdrr.io/github/meichendong/SCDC/man/SCDC_ENSEMBLE.html)\n",
    "* `celltypesel` - cell types of interest to estimate; has to be an intersecting set of celltypes contained in the supplied basis vectors in `dir_annot`\n"
   ]
  },
  {
   "cell_type": "code",
   "execution_count": 3,
   "metadata": {
    "scrolled": false
   },
   "outputs": [
    {
     "data": {
      "text/plain": [
       "'/home/tkamth/bescape/docs/tutorial_data/gep'"
      ]
     },
     "execution_count": 3,
     "metadata": {},
     "output_type": "execute_result"
    }
   ],
   "source": [
    "wd = os.getcwd()\n",
    "dir_annot = wd + '/tutorial_data/gep'\n",
    "dir_input = wd + '/tutorial_data/input'\n",
    "dir_output = wd + '/tutorial_data/output'\n",
    "\n",
    "dir_annot"
   ]
  },
  {
   "cell_type": "code",
   "execution_count": 4,
   "metadata": {},
   "outputs": [
    {
     "name": "stdout",
     "output_type": "stream",
     "text": [
      "── Attaching packages ─────────────────────────────────────── tidyverse 1.3.0 ──\n",
      "✔ ggplot2 3.3.2     ✔ purrr   0.3.4\n",
      "✔ tibble  3.0.3     ✔ dplyr   1.0.0\n",
      "✔ tidyr   1.1.0     ✔ stringr 1.4.0\n",
      "✔ readr   1.3.1     ✔ forcats 0.5.0\n",
      "── Conflicts ────────────────────────────────────────── tidyverse_conflicts() ──\n",
      "✖ dplyr::filter() masks stats::filter()\n",
      "✖ dplyr::lag()    masks stats::lag()\n",
      "Loading required package: BiocGenerics\n",
      "Loading required package: parallel\n",
      "\n",
      "Attaching package: ‘BiocGenerics’\n",
      "\n",
      "The following objects are masked from ‘package:parallel’:\n",
      "\n",
      "clusterApply, clusterApplyLB, clusterCall, clusterEvalQ,\n",
      "clusterExport, clusterMap, parApply, parCapply, parLapply,\n",
      "parLapplyLB, parRapply, parSapply, parSapplyLB\n",
      "\n",
      "The following objects are masked from ‘package:dplyr’:\n",
      "\n",
      "combine, intersect, setdiff, union\n",
      "\n",
      "The following objects are masked from ‘package:stats’:\n",
      "\n",
      "IQR, mad, sd, var, xtabs\n",
      "\n",
      "The following objects are masked from ‘package:base’:\n",
      "\n",
      "anyDuplicated, append, as.data.frame, basename, cbind, colnames,\n",
      "dirname, do.call, duplicated, eval, evalq, Filter, Find, get, grep,\n",
      "grepl, intersect, is.unsorted, lapply, Map, mapply, match, mget,\n",
      "order, paste, pmax, pmax.int, pmin, pmin.int, Position, rank,\n",
      "rbind, Reduce, rownames, sapply, setdiff, sort, table, tapply,\n",
      "union, unique, unsplit, which, which.max, which.min\n",
      "\n",
      "Welcome to Bioconductor\n",
      "\n",
      "Vignettes contain introductory material; view with\n",
      "'browseVignettes()'. To cite Bioconductor, see\n",
      "'citation(\"Biobase\")', and for packages 'citation(\"pkgname\")'.\n",
      "\n",
      "Parsed with column specification:\n",
      "cols(\n",
      "dataset.name = col_character(),\n",
      "hugo.expr.file = col_character()\n",
      ")\n",
      "Parsed with column specification:\n",
      "cols(\n",
      "Gene = col_character(),\n",
      "S0 = col_double(),\n",
      "S1 = col_double(),\n",
      "S2 = col_double(),\n",
      "S3 = col_double(),\n",
      "S4 = col_double(),\n",
      "S5 = col_double(),\n",
      "S6 = col_double(),\n",
      "S7 = col_double(),\n",
      "S8 = col_double(),\n",
      "S9 = col_double()\n",
      ")\n",
      "Creating Basis Matrix adjusted for maximal variance weight\n",
      "Used 4504 common genes...\n",
      "Used 8 cell types in deconvolution...\n",
      "S0 has common genes 4504 ...\n",
      "WNNLS Converged at iteration 94\n",
      "S1 has common genes 4504 ...\n",
      "WNNLS Converged at iteration 128\n",
      "S2 has common genes 4504 ...\n",
      "WNNLS Converged at iteration 126\n",
      "S3 has common genes 4504 ...\n",
      "WNNLS Converged at iteration 84\n",
      "S4 has common genes 4504 ...\n",
      "WNNLS Converged at iteration 120\n",
      "S5 has common genes 4504 ...\n",
      "WNNLS Converged at iteration 64\n",
      "S6 has common genes 4504 ...\n",
      "WNNLS Converged at iteration 82\n",
      "S7 has common genes 4504 ...\n",
      "WNNLS Converged at iteration 126\n",
      "S8 has common genes 4504 ...\n",
      "WNNLS Converged at iteration 133\n",
      "S9 has common genes 4504 ...\n",
      "WNNLS Converged at iteration 58\n",
      "Creating Basis Matrix adjusted for maximal variance weight\n",
      "Used 5040 common genes...\n",
      "Used 8 cell types in deconvolution...\n",
      "S0 has common genes 5040 ...\n",
      "WNNLS Converged at iteration 110\n",
      "S1 has common genes 5040 ...\n",
      "WNNLS Converged at iteration 144\n",
      "S2 has common genes 5040 ...\n",
      "WNNLS Converged at iteration 98\n",
      "S3 has common genes 5040 ...\n",
      "WNNLS Converged at iteration 86\n",
      "S4 has common genes 5040 ...\n",
      "WNNLS Converged at iteration 136\n",
      "S5 has common genes 5040 ...\n",
      "WNNLS Converged at iteration 116\n",
      "S6 has common genes 5040 ...\n",
      "WNNLS Converged at iteration 140\n",
      "S7 has common genes 5040 ...\n",
      "WNNLS Converged at iteration 108\n",
      "S8 has common genes 5040 ...\n",
      "WNNLS Converged at iteration 118\n",
      "S9 has common genes 5040 ...\n",
      "WNNLS Converged at iteration 62\n",
      "Searching ENSEMBLE weight by Sum of Squared Errors or Sum of Abs Errors ......\n",
      "Searching ENSEMBLE weight by LAD -- Minimizing mAD of Y measurement\n",
      "Searching ENSEMBLE weight by NNLS -- Minimizing MSE of Y measurement\n",
      "Grid search for ENSEMBLE weight ...\n",
      "Searching according to bulk expression measurement...\n",
      "Grid search used1.306 seconds.\n",
      "Creating Basis Matrix adjusted for maximal variance weight\n",
      "Creating Basis Matrix adjusted for maximal variance weight\n",
      "Deconvolution using SCDC finished\n"
     ]
    }
   ],
   "source": [
    "deconv.deconvolute_sc(dir_annot=dir_annot, \n",
    "                      dir_input=dir_input,\n",
    "                      dir_output=dir_output, \n",
    "                      method='scdc', \n",
    "                      celltype_sel=['fibroblast', 'PP cell', 'pancreatic D cell', \n",
    "                                    'pancreatic A cell', 'pancreatic ductal cell', \n",
    "                                    'type B pancreatic cell', 'pancreatic acinar cell', \n",
    "                                    'blood vessel endothelial cell'])"
   ]
  }
 ],
 "metadata": {
  "kernelspec": {
   "display_name": "Python 3",
   "language": "python",
   "name": "python3"
  },
  "language_info": {
   "codemirror_mode": {
    "name": "ipython",
    "version": 3
   },
   "file_extension": ".py",
   "mimetype": "text/x-python",
   "name": "python",
   "nbconvert_exporter": "python",
   "pygments_lexer": "ipython3",
   "version": "3.7.6"
  }
 },
 "nbformat": 4,
 "nbformat_minor": 4
}
