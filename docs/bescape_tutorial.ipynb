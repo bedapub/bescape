{
 "cells": [
  {
   "cell_type": "markdown",
   "metadata": {},
   "source": [
    "# BESCAPE - tutorial on deconvolution of bulk RNA using single-cell annotations\n",
    "\n",
    "BESCAPE (BESCA Proportion Estimator) is a deconvolution module. It utilises single-cell annotations coming from the BESCA workflow to build a Gene Expression Profile (GEP). This GEP is used as a basis vector to deconvolute bulk RNA samples i.e. predict cell type proportions within a sample.\n",
    "\n",
    "BESCAPE has a useful implementation, whereby the user can specify their own GEP, as well as choose any of the supported deconvolution methods. Thus, it effectively allows decoupling of the deconvolution algorithm from its underlying GEP (basis vector).\n",
    "\n",
    "This tutorial presents the workflow for deconvolution, as well as the link to BESCA single-cell annotations.\n",
    "\n",
    "We assume that either Docker or Singularity services have already been installed."
   ]
  },
  {
   "cell_type": "markdown",
   "metadata": {},
   "source": [
    "# Initialising the predictor object\n",
    "\n",
    "Initiate the decovnolution predictor object. Requires either a Docker, or a Singularity image to run. Both methods are shown below.\n",
    "\n",
    "## 1. Docker\n",
    "To initiate the Bescape deconvolution object, we to set the service to 'docker' and docker_image='bedapub/bescape:version'. It will first look for local docker images, and if not available, will pull the bescape image from DockerHub. This also means that one can locally build a customised Docker image from the BESCAPE source and set use it in the Bescape object.\n",
    "\n",
    "All bescape docker images are hosted on DockerHub here: https://hub.docker.com/r/bedapub/bescape/tags\n"
   ]
  },
  {
   "cell_type": "code",
   "execution_count": null,
   "metadata": {},
   "outputs": [],
   "source": [
    "import os\n",
    "from bescape import Bescape\n",
    "\n",
    "# docker\n",
    "# may take some time if the docker image is being built for the first time\n",
    "deconv = Bescape(service='docker', docker_image='bedapub/bescape:0.1')"
   ]
  },
  {
   "cell_type": "markdown",
   "metadata": {},
   "source": [
    "## 2. Singularity\n",
    "When using Singularity, the user specifies the absolute path for the Singularity container file. If the path is not given, Bescape will attempt to pull the lastest docker image from Dockerhub and build a new copy of a Singularity container file."
   ]
  },
  {
   "cell_type": "code",
   "execution_count": null,
   "metadata": {},
   "outputs": [],
   "source": [
    "import os\n",
    "from bescape import Bescape\n",
    "\n",
    "# singularity\n",
    "deconv = Bescape(service='singularity', path_singularity=None)"
   ]
  },
  {
   "cell_type": "markdown",
   "metadata": {},
   "source": [
    "# Performing Deconvolution\n",
    "Once the Bescape object has been initialised, the methods are the same for both `docker` and `singularity`. The module distinguishes between two types of basis vectors as input:\n",
    "\n",
    "## 1. Gene Expression Profile (GEP) \n",
    "- generated from single-cell annotations using __BESCA.export__ functions\n",
    "- currently supported packages: \n",
    "    1. bescape - in-house method based on nu-SVR (CIBERSORT)\n",
    "- implemented in the __Bescape.deconvolute_gep( )__ method\n",
    "\n",
    "### 1.1. method = Bescape"
   ]
  },
  {
   "cell_type": "code",
   "execution_count": null,
   "metadata": {},
   "outputs": [],
   "source": [
    "# Important to specify ABSOLUTE directory paths\n",
    "wd = os.getcwd() # assumes this notebook has its wd set in the \"~/../bescape/docs/\" folder as cloned from the github repository\n",
    "annot = wd + '/datasets/bescape/gep'\n",
    "inpt = wd + '/datasets/bescape/input'\n",
    "output = wd + '/datasets/bescape/output'\n",
    "\n",
    "print(output)\n",
    "# deconvolute using MuSiC - sc based basis vector\n",
    "deconv.deconvolute_gep(dir_annot= annot, \n",
    "                      dir_input= inpt,\n",
    "                      dir_output= output, \n",
    "                      method='bescape')"
   ]
  },
  {
   "cell_type": "markdown",
   "metadata": {},
   "source": [
    "### 1.2. method = EPIC\n",
    "\n",
    "As bulk input EPIC takes in ExpressionSet with the `@assayData` slot filled with gene expression count from each bulk sample. The counts should be given in TPM, RPKM or FPKM when using the prebuilt reference profiles.\n",
    "\n",
    "If we leave `dir_annot='epic'`, EPIC will provide a prebuilt reference profile that can predict: __B cells, CAFs, CD4+ T cells, CD8+ T cells, NK, cells, and Macrophages__."
   ]
  },
  {
   "cell_type": "code",
   "execution_count": null,
   "metadata": {},
   "outputs": [],
   "source": [
    "# Important to specify ABSOLUTE directory paths\n",
    "wd = os.getcwd()\n",
    "annot = wd + '/datasets/epic/gep'\n",
    "inpt = wd + '/datasets/epic/input'\n",
    "output = wd + '/datasets/epic/output'\n",
    "\n",
    "# deconvolute using MuSiC - sc based basis vector\n",
    "deconv.deconvolute_gep(dir_annot= 'epic', \n",
    "                      dir_input= inpt,\n",
    "                      dir_output= output, \n",
    "                      method='epic')"
   ]
  },
  {
   "cell_type": "markdown",
   "metadata": {},
   "source": [
    "## 2. Single-cell annotation AnnData object \n",
    "- should contain single-cell annotations of multiple samples from which the deconvolution method generates its own GEP\n",
    "- currently supported packages:\n",
    "    1. MuSiC\n",
    "    2. SCDC\n",
    "- implemented in the __Bescape.deconvolute_sc( )__ method\n",
    "\n",
    "### 2.1. MuSiC"
   ]
  },
  {
   "cell_type": "code",
   "execution_count": null,
   "metadata": {
    "scrolled": false
   },
   "outputs": [],
   "source": [
    "# Important to specify ABSOLUTE directory paths\n",
    "wd = os.getcwd()\n",
    "annot = wd + '/datasets/music/gep'\n",
    "inpt = wd + '/datasets/music/input'\n",
    "output = wd + '/datasets/music/output'\n",
    "\n",
    "# deconvolute using MuSiC - sc based basis vector\n",
    "deconv.deconvolute_sc(dir_annot= annot, \n",
    "                      dir_input= inpt,\n",
    "                      dir_output= output, \n",
    "                      method='music')"
   ]
  },
  {
   "cell_type": "markdown",
   "metadata": {},
   "source": [
    "### 2.2. SCDC\n",
    "\n",
    "Using SCDC requires additional parameters:\n",
    "* `celltype_var` - variable name containing the cell type annot in @phenoData of the eset\n",
    "* `celltypesel` - cell types of interest to estimate\n",
    "* `samplevar` - variable name in @phenoData identifying the sample name"
   ]
  },
  {
   "cell_type": "code",
   "execution_count": null,
   "metadata": {},
   "outputs": [],
   "source": [
    "from bescape import Bescape\n",
    "import os\n",
    "# singularity\n",
    "deconv = Bescape(service='singularity', path_singularity='~/singularity_images/bescape_singularity.sif')\n",
    "wd = os.getcwd()\n",
    "print(wd)\n",
    "dir_annot = wd + '/datasets/music/gep/'\n",
    "dir_input = wd + '/datasets/music/input'\n",
    "dir_output = wd + '/datasets/music/output'\n",
    "\n",
    "deconv.deconvolute_sc(dir_annot=dir_annot, \n",
    "                      dir_input=dir_input,\n",
    "                      dir_output=dir_output, \n",
    "                      method='music', \n",
    "                      celltype_var='cluster', \n",
    "                      celltype_sel=[\"alpha\",\"beta\",\"delta\",\"gamma\",\"acinar\",\"ductal\"], \n",
    "                      sample_var='sample')"
   ]
  }
 ],
 "metadata": {
  "kernelspec": {
   "display_name": "Python 3",
   "language": "python",
   "name": "python3"
  },
  "language_info": {
   "codemirror_mode": {
    "name": "ipython",
    "version": 3
   },
   "file_extension": ".py",
   "mimetype": "text/x-python",
   "name": "python",
   "nbconvert_exporter": "python",
   "pygments_lexer": "ipython3",
   "version": "3.7.6"
  }
 },
 "nbformat": 4,
 "nbformat_minor": 4
}
