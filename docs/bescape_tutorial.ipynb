{
 "cells": [
  {
   "cell_type": "markdown",
   "metadata": {},
   "source": [
    "# BESCAPE - tutorial on deconvolution of bulk RNA using single-cell annotations\n",
    "\n",
    "BESCAPE (BESCA Proportion Estimator) is a deconvolution module. It utilises single-cell annotations coming from the BESCA workflow to build a Gene Expression Profile (GEP). This GEP is used as a basis vector to deconvolute bulk RNA samples i.e. predict cell type proportions within a sample.\n",
    "\n",
    "BESCAPE has a useful implementation, whereby the user can specify their own GEP, as well as choose any of the supported deconvolution methods. Thus, it effectively allows decoupling of the deconvolution algorithm from its underlying GEP (basis vector).\n",
    "\n",
    "This tutorial presents the workflow for deconvolution, as well as the link to BESCA single-cell annotations.\n",
    "\n",
    "We assume that either Docker or Singularity services have already been installed."
   ]
  },
  {
   "cell_type": "markdown",
   "metadata": {},
   "source": [
    "# Initialising the predictor object\n",
    "\n",
    "Initiate the decovnolution predictor object. Requires either a Docker, or a Singularity image to run. Both methods are shown below.\n",
    "\n",
    "## 1. Docker\n",
    "To initiate the Bescape deconvolution object, we to set the service to 'docker' and docker_image='bedapub/bescape:version'. It will first look for local docker images, and if not available, will pull the bescape image from DockerHub. This also means that one can locally build a customised Docker image from the BESCAPE source and set use it in the Bescape object.\n",
    "\n",
    "All bescape docker images are hosted on DockerHub here: https://hub.docker.com/r/bedapub/bescape/tags\n"
   ]
  },
  {
   "cell_type": "code",
   "execution_count": 1,
   "metadata": {},
   "outputs": [
    {
     "name": "stdout",
     "output_type": "stream",
     "text": [
      "Docker client instantiated\n",
      "Docker image loaded:  bedapub/bescape:0.1\n"
     ]
    }
   ],
   "source": [
    "import os\n",
    "from bescape import Bescape\n",
    "\n",
    "# docker\n",
    "# may take some time if the docker image is being built for the first time\n",
    "deconv = Bescape(service='docker', docker_image='bedapub/bescape:0.1')"
   ]
  },
  {
   "cell_type": "markdown",
   "metadata": {},
   "source": [
    "If running a permission error to run the docker image, please follow the steps in https://askubuntu.com/questions/477551/how-can-i-use-docker-without-sudo to run docker without sudo\n",
    "\n",
    "Namely,\n",
    "Add the docker group if it doesn't already exist:\n",
    "```\n",
    "sudo groupadd docker\n",
    "```\n",
    "\n",
    "    Add the connected user \"$USER\" to the docker group. Change the user name to match your preferred user if you do not want to use your current user:\n",
    "    \n",
    "    ```\n",
    "    sudo gpasswd -a $USER docker\n",
    "    ```\n",
    "    \n",
    "    Either do a newgrp docker or log out/in to activate the changes to groups.\n"
   ]
  },
  {
   "cell_type": "markdown",
   "metadata": {},
   "source": [
    "## 2. Singularity\n",
    "When using Singularity, the user specifies the absolute path for the Singularity container file. If the path is not given, Bescape will attempt to pull the lastest docker image from Dockerhub and build a new copy of a Singularity container file."
   ]
  },
  {
   "cell_type": "code",
   "execution_count": 2,
   "metadata": {},
   "outputs": [
    {
     "name": "stdout",
     "output_type": "stream",
     "text": [
      "singularity pull --name bescape.sif docker://bedapub/bescape:0.1\n",
      "\u001b[31mFATAL:  \u001b[0m Image file already exists: \"bescape.sif\" - will not overwrite\n",
      "\u001b[31mFATAL:  \u001b[0m Image file already exists: \"bescape.sif\" - will not overwrite\n",
      "bescape.sif\n",
      "Singularity client loaded\n",
      "Singularity container loaded:  None\n"
     ]
    }
   ],
   "source": [
    "import os\n",
    "from bescape import Bescape\n",
    "\n",
    "# singularity\n",
    "deconv = Bescape(service='singularity', docker_image='bedapub/bescape:0.1', path_singularity=None)"
   ]
  },
  {
   "cell_type": "markdown",
   "metadata": {},
   "source": [
    "# Performing Deconvolution\n",
    "Once the Bescape object has been initialised, the methods are the same for both `docker` and `singularity`. The module distinguishes between two types of basis vectors as input:\n",
    "\n",
    "## 1. Gene Expression Profile (GEP) \n",
    "- generated from single-cell annotations using __BESCA.export__ functions\n",
    "- currently supported packages: \n",
    "    1. bescape - in-house method based on nu-SVR (CIBERSORT)\n",
    "- implemented in the __Bescape.deconvolute_gep( )__ method\n",
    "\n",
    "### 1.1. method = Bescape"
   ]
  },
  {
   "cell_type": "code",
   "execution_count": 4,
   "metadata": {},
   "outputs": [
    {
     "name": "stdout",
     "output_type": "stream",
     "text": [
      "/home/tkamth/bescape/docs/datasets/bescape/output\n"
     ]
    },
    {
     "ename": "NameError",
     "evalue": "name 'file_gep' is not defined",
     "output_type": "error",
     "traceback": [
      "\u001b[0;31m---------------------------------------------------------------------------\u001b[0m",
      "\u001b[0;31mNameError\u001b[0m                                 Traceback (most recent call last)",
      "\u001b[0;32m<ipython-input-4-dcd8579af9ca>\u001b[0m in \u001b[0;36m<module>\u001b[0;34m\u001b[0m\n\u001b[1;32m     10\u001b[0m                       \u001b[0mdir_input\u001b[0m\u001b[0;34m=\u001b[0m \u001b[0minpt\u001b[0m\u001b[0;34m,\u001b[0m\u001b[0;34m\u001b[0m\u001b[0;34m\u001b[0m\u001b[0m\n\u001b[1;32m     11\u001b[0m                       \u001b[0mdir_output\u001b[0m\u001b[0;34m=\u001b[0m \u001b[0moutput\u001b[0m\u001b[0;34m,\u001b[0m\u001b[0;34m\u001b[0m\u001b[0;34m\u001b[0m\u001b[0m\n\u001b[0;32m---> 12\u001b[0;31m                       method='bescape')\n\u001b[0m",
      "\u001b[0;32m~/miniconda3/lib/python3.7/site-packages/bescape/_deconv.py\u001b[0m in \u001b[0;36mdeconvolute_gep\u001b[0;34m(self, dir_annot, dir_input, dir_output, method)\u001b[0m\n\u001b[1;32m    119\u001b[0m             \u001b[0;32mwith\u001b[0m \u001b[0mTemporaryDirectory\u001b[0m\u001b[0;34m(\u001b[0m\u001b[0;34m)\u001b[0m \u001b[0;32mas\u001b[0m \u001b[0mtmp_gep_dir\u001b[0m\u001b[0;34m:\u001b[0m\u001b[0;34m\u001b[0m\u001b[0;34m\u001b[0m\u001b[0m\n\u001b[1;32m    120\u001b[0m                 \u001b[0;32mif\u001b[0m \u001b[0mmethod\u001b[0m \u001b[0;34m==\u001b[0m \u001b[0;34m'bescape'\u001b[0m\u001b[0;34m:\u001b[0m\u001b[0;34m\u001b[0m\u001b[0;34m\u001b[0m\u001b[0m\n\u001b[0;32m--> 121\u001b[0;31m                     \u001b[0mcopy\u001b[0m\u001b[0;34m(\u001b[0m\u001b[0mfile_gep\u001b[0m\u001b[0;34m,\u001b[0m \u001b[0mtmp_gep_dir\u001b[0m\u001b[0;34m)\u001b[0m\u001b[0;34m\u001b[0m\u001b[0;34m\u001b[0m\u001b[0m\n\u001b[0m\u001b[1;32m    122\u001b[0m                     dir_gep = os.path.join(tmp_gep_dir.rstrip(\n\u001b[1;32m    123\u001b[0m                     '/'), ':/', self.img_dir_gep.lstrip('/'))\n",
      "\u001b[0;31mNameError\u001b[0m: name 'file_gep' is not defined"
     ]
    }
   ],
   "source": [
    "# Important to specify ABSOLUTE directory paths\n",
    "wd = os.getcwd() # assumes this notebook has its wd set in the \"~/../bescape/docs/\" folder as cloned from the github repository\n",
    "annot = wd + '/datasets/bescape/gep'\n",
    "inpt = wd + '/datasets/bescape/input'\n",
    "output = wd + '/datasets/bescape/output'\n",
    "\n",
    "print(output)\n",
    "# deconvolute using MuSiC - sc based basis vector\n",
    "deconv.deconvolute_gep(dir_annot= annot, \n",
    "                      dir_input= inpt,\n",
    "                      dir_output= output, \n",
    "                      method='bescape')"
   ]
  },
  {
   "cell_type": "markdown",
   "metadata": {},
   "source": [
    "### 1.2. method = EPIC\n",
    "\n",
    "As bulk input EPIC takes in ExpressionSet with the `@assayData` slot filled with gene expression count from each bulk sample. The counts should be given in TPM, RPKM or FPKM when using the prebuilt reference profiles.\n",
    "\n",
    "If we leave `dir_annot='epic'`, EPIC will provide a prebuilt reference profile that can predict: __B cells, CAFs, CD4+ T cells, CD8+ T cells, NK, cells, and Macrophages__."
   ]
  },
  {
   "cell_type": "code",
   "execution_count": 5,
   "metadata": {},
   "outputs": [
    {
     "ename": "Exception",
     "evalue": "('Selected method not supported: ', 'epic')",
     "output_type": "error",
     "traceback": [
      "\u001b[0;31m---------------------------------------------------------------------------\u001b[0m",
      "\u001b[0;31mException\u001b[0m                                 Traceback (most recent call last)",
      "\u001b[0;32m<ipython-input-5-6695f63a4e69>\u001b[0m in \u001b[0;36m<module>\u001b[0;34m\u001b[0m\n\u001b[1;32m      9\u001b[0m                       \u001b[0mdir_input\u001b[0m\u001b[0;34m=\u001b[0m \u001b[0minpt\u001b[0m\u001b[0;34m,\u001b[0m\u001b[0;34m\u001b[0m\u001b[0;34m\u001b[0m\u001b[0m\n\u001b[1;32m     10\u001b[0m                       \u001b[0mdir_output\u001b[0m\u001b[0;34m=\u001b[0m \u001b[0moutput\u001b[0m\u001b[0;34m,\u001b[0m\u001b[0;34m\u001b[0m\u001b[0;34m\u001b[0m\u001b[0m\n\u001b[0;32m---> 11\u001b[0;31m                       method='epic')\n\u001b[0m",
      "\u001b[0;32m~/miniconda3/lib/python3.7/site-packages/bescape/_deconv.py\u001b[0m in \u001b[0;36mdeconvolute_gep\u001b[0;34m(self, dir_annot, dir_input, dir_output, method)\u001b[0m\n\u001b[1;32m    132\u001b[0m                         \u001b[0mprint\u001b[0m\u001b[0;34m(\u001b[0m\u001b[0mline\u001b[0m\u001b[0;34m)\u001b[0m\u001b[0;34m\u001b[0m\u001b[0;34m\u001b[0m\u001b[0m\n\u001b[1;32m    133\u001b[0m                 \u001b[0;32melse\u001b[0m\u001b[0;34m:\u001b[0m\u001b[0;34m\u001b[0m\u001b[0;34m\u001b[0m\u001b[0m\n\u001b[0;32m--> 134\u001b[0;31m                     \u001b[0;32mraise\u001b[0m \u001b[0mException\u001b[0m\u001b[0;34m(\u001b[0m\u001b[0;34m'Selected method not supported: '\u001b[0m\u001b[0;34m,\u001b[0m \u001b[0mmethod\u001b[0m\u001b[0;34m)\u001b[0m\u001b[0;34m\u001b[0m\u001b[0;34m\u001b[0m\u001b[0m\n\u001b[0m\u001b[1;32m    135\u001b[0m             \u001b[0;32mreturn\u001b[0m \u001b[0;32mNone\u001b[0m\u001b[0;34m\u001b[0m\u001b[0;34m\u001b[0m\u001b[0m\n\u001b[1;32m    136\u001b[0m \u001b[0;34m\u001b[0m\u001b[0m\n",
      "\u001b[0;31mException\u001b[0m: ('Selected method not supported: ', 'epic')"
     ]
    }
   ],
   "source": [
    "# Important to specify ABSOLUTE directory paths\n",
    "wd = os.getcwd()\n",
    "annot = wd + '/datasets/epic/gep'\n",
    "inpt = wd + '/datasets/epic/input'\n",
    "output = wd + '/datasets/epic/output'\n",
    "\n",
    "# deconvolute using MuSiC - sc based basis vector\n",
    "deconv.deconvolute_gep(dir_annot= 'epic', \n",
    "                      dir_input= inpt,\n",
    "                      dir_output= output, \n",
    "                      method='epic')"
   ]
  },
  {
   "cell_type": "markdown",
   "metadata": {},
   "source": [
    "## 2. Single-cell annotation AnnData object \n",
    "- should contain single-cell annotations of multiple samples from which the deconvolution method generates its own GEP\n",
    "- currently supported packages:\n",
    "    1. MuSiC\n",
    "    2. SCDC\n",
    "- implemented in the __Bescape.deconvolute_sc( )__ method\n",
    "\n",
    "### 2.1. MuSiC"
   ]
  },
  {
   "cell_type": "code",
   "execution_count": 6,
   "metadata": {
    "scrolled": false
   },
   "outputs": [
    {
     "ename": "AttributeError",
     "evalue": "'str' object has no attribute 'execute'",
     "output_type": "error",
     "traceback": [
      "\u001b[0;31m---------------------------------------------------------------------------\u001b[0m",
      "\u001b[0;31mAttributeError\u001b[0m                            Traceback (most recent call last)",
      "\u001b[0;32m<ipython-input-6-44c027cb0ac5>\u001b[0m in \u001b[0;36m<module>\u001b[0;34m\u001b[0m\n\u001b[1;32m      9\u001b[0m                       \u001b[0mdir_input\u001b[0m\u001b[0;34m=\u001b[0m \u001b[0minpt\u001b[0m\u001b[0;34m,\u001b[0m\u001b[0;34m\u001b[0m\u001b[0;34m\u001b[0m\u001b[0m\n\u001b[1;32m     10\u001b[0m                       \u001b[0mdir_output\u001b[0m\u001b[0;34m=\u001b[0m \u001b[0moutput\u001b[0m\u001b[0;34m,\u001b[0m\u001b[0;34m\u001b[0m\u001b[0;34m\u001b[0m\u001b[0m\n\u001b[0;32m---> 11\u001b[0;31m                       method='music')\n\u001b[0m",
      "\u001b[0;32m~/miniconda3/lib/python3.7/site-packages/bescape/_deconv.py\u001b[0m in \u001b[0;36mdeconvolute_sc\u001b[0;34m(self, dir_annot, dir_input, dir_output, method, **kwargs)\u001b[0m\n\u001b[1;32m    194\u001b[0m                 \u001b[0mparam_bind\u001b[0m \u001b[0;34m=\u001b[0m \u001b[0;34m[\u001b[0m\u001b[0mdir_input\u001b[0m\u001b[0;34m,\u001b[0m \u001b[0mdir_output\u001b[0m\u001b[0;34m,\u001b[0m \u001b[0mdir_gep\u001b[0m\u001b[0;34m]\u001b[0m\u001b[0;34m\u001b[0m\u001b[0;34m\u001b[0m\u001b[0m\n\u001b[1;32m    195\u001b[0m                 \u001b[0mcmd\u001b[0m \u001b[0;34m=\u001b[0m \u001b[0;34m[\u001b[0m\u001b[0;34m'python3'\u001b[0m\u001b[0;34m,\u001b[0m \u001b[0;34m'/app/musicpy.py'\u001b[0m\u001b[0;34m]\u001b[0m\u001b[0;34m\u001b[0m\u001b[0;34m\u001b[0m\u001b[0m\n\u001b[0;32m--> 196\u001b[0;31m                 \u001b[0mexecutor\u001b[0m \u001b[0;34m=\u001b[0m \u001b[0mself\u001b[0m\u001b[0;34m.\u001b[0m\u001b[0msclient\u001b[0m\u001b[0;34m.\u001b[0m\u001b[0mexecute\u001b[0m\u001b[0;34m(\u001b[0m\u001b[0mcmd\u001b[0m\u001b[0;34m,\u001b[0m \u001b[0mbind\u001b[0m\u001b[0;34m=\u001b[0m\u001b[0mparam_bind\u001b[0m\u001b[0;34m,\u001b[0m \u001b[0mstream\u001b[0m\u001b[0;34m=\u001b[0m\u001b[0;32mTrue\u001b[0m\u001b[0;34m)\u001b[0m\u001b[0;34m\u001b[0m\u001b[0;34m\u001b[0m\u001b[0m\n\u001b[0m\u001b[1;32m    197\u001b[0m                 \u001b[0;32mfor\u001b[0m \u001b[0mline\u001b[0m \u001b[0;32min\u001b[0m \u001b[0mexecutor\u001b[0m\u001b[0;34m:\u001b[0m\u001b[0;34m\u001b[0m\u001b[0;34m\u001b[0m\u001b[0m\n\u001b[1;32m    198\u001b[0m                     \u001b[0mprint\u001b[0m\u001b[0;34m(\u001b[0m\u001b[0mline\u001b[0m\u001b[0;34m)\u001b[0m\u001b[0;34m\u001b[0m\u001b[0;34m\u001b[0m\u001b[0m\n",
      "\u001b[0;31mAttributeError\u001b[0m: 'str' object has no attribute 'execute'"
     ]
    }
   ],
   "source": [
    "# Important to specify ABSOLUTE directory paths\n",
    "wd = os.getcwd()\n",
    "annot = wd + '/datasets/music/gep'\n",
    "inpt = wd + '/datasets/music/input'\n",
    "output = wd + '/datasets/music/output'\n",
    "\n",
    "# deconvolute using MuSiC - sc based basis vector\n",
    "deconv.deconvolute_sc(dir_annot= annot, \n",
    "                      dir_input= inpt,\n",
    "                      dir_output= output, \n",
    "                      method='music')"
   ]
  },
  {
   "cell_type": "markdown",
   "metadata": {},
   "source": [
    "### 2.2. SCDC\n",
    "\n",
    "Using SCDC requires additional parameters:\n",
    "* `celltype_var` - variable name containing the cell type annot in @phenoData of the eset\n",
    "* `celltypesel` - cell types of interest to estimate\n",
    "* `samplevar` - variable name in @phenoData identifying the sample name"
   ]
  },
  {
   "cell_type": "code",
   "execution_count": 7,
   "metadata": {},
   "outputs": [
    {
     "name": "stdout",
     "output_type": "stream",
     "text": [
      "~/singularity_images/bescape_singularity.sif\n",
      "Singularity client loaded\n",
      "Singularity container loaded:  ~/singularity_images/bescape_singularity.sif\n",
      "/home/tkamth/bescape/docs\n"
     ]
    },
    {
     "ename": "CalledProcessError",
     "evalue": "Command '['singularity', 'exec', '--bind', '/home/tkamth/bescape/docs/datasets/music/input/:/app/input', '--bind', '/home/tkamth/bescape/docs/datasets/music/output/:/app/output', '--bind', '/home/tkamth/bescape/docs/datasets/music/gep/:/app/gep', '~/singularity_images/bescape_singularity.sif', 'python3', '/app/musicpy.py']' returned non-zero exit status 255.",
     "output_type": "error",
     "traceback": [
      "\u001b[0;31m---------------------------------------------------------------------------\u001b[0m",
      "\u001b[0;31mCalledProcessError\u001b[0m                        Traceback (most recent call last)",
      "\u001b[0;32m<ipython-input-7-2d5bb52538fb>\u001b[0m in \u001b[0;36m<module>\u001b[0;34m\u001b[0m\n\u001b[1;32m     15\u001b[0m                       \u001b[0mcelltype_var\u001b[0m\u001b[0;34m=\u001b[0m\u001b[0;34m'cluster'\u001b[0m\u001b[0;34m,\u001b[0m\u001b[0;34m\u001b[0m\u001b[0;34m\u001b[0m\u001b[0m\n\u001b[1;32m     16\u001b[0m                       \u001b[0mcelltype_sel\u001b[0m\u001b[0;34m=\u001b[0m\u001b[0;34m[\u001b[0m\u001b[0;34m\"alpha\"\u001b[0m\u001b[0;34m,\u001b[0m\u001b[0;34m\"beta\"\u001b[0m\u001b[0;34m,\u001b[0m\u001b[0;34m\"delta\"\u001b[0m\u001b[0;34m,\u001b[0m\u001b[0;34m\"gamma\"\u001b[0m\u001b[0;34m,\u001b[0m\u001b[0;34m\"acinar\"\u001b[0m\u001b[0;34m,\u001b[0m\u001b[0;34m\"ductal\"\u001b[0m\u001b[0;34m]\u001b[0m\u001b[0;34m,\u001b[0m\u001b[0;34m\u001b[0m\u001b[0;34m\u001b[0m\u001b[0m\n\u001b[0;32m---> 17\u001b[0;31m                       sample_var='sample')\n\u001b[0m",
      "\u001b[0;32m~/miniconda3/lib/python3.7/site-packages/bescape/_deconv.py\u001b[0m in \u001b[0;36mdeconvolute_sc\u001b[0;34m(self, dir_annot, dir_input, dir_output, method, **kwargs)\u001b[0m\n\u001b[1;32m    195\u001b[0m                 \u001b[0mcmd\u001b[0m \u001b[0;34m=\u001b[0m \u001b[0;34m[\u001b[0m\u001b[0;34m'python3'\u001b[0m\u001b[0;34m,\u001b[0m \u001b[0;34m'/app/musicpy.py'\u001b[0m\u001b[0;34m]\u001b[0m\u001b[0;34m\u001b[0m\u001b[0;34m\u001b[0m\u001b[0m\n\u001b[1;32m    196\u001b[0m                 \u001b[0mexecutor\u001b[0m \u001b[0;34m=\u001b[0m \u001b[0mself\u001b[0m\u001b[0;34m.\u001b[0m\u001b[0msclient\u001b[0m\u001b[0;34m.\u001b[0m\u001b[0mexecute\u001b[0m\u001b[0;34m(\u001b[0m\u001b[0mcmd\u001b[0m\u001b[0;34m,\u001b[0m \u001b[0mbind\u001b[0m\u001b[0;34m=\u001b[0m\u001b[0mparam_bind\u001b[0m\u001b[0;34m,\u001b[0m \u001b[0mstream\u001b[0m\u001b[0;34m=\u001b[0m\u001b[0;32mTrue\u001b[0m\u001b[0;34m)\u001b[0m\u001b[0;34m\u001b[0m\u001b[0;34m\u001b[0m\u001b[0m\n\u001b[0;32m--> 197\u001b[0;31m                 \u001b[0;32mfor\u001b[0m \u001b[0mline\u001b[0m \u001b[0;32min\u001b[0m \u001b[0mexecutor\u001b[0m\u001b[0;34m:\u001b[0m\u001b[0;34m\u001b[0m\u001b[0;34m\u001b[0m\u001b[0m\n\u001b[0m\u001b[1;32m    198\u001b[0m                     \u001b[0mprint\u001b[0m\u001b[0;34m(\u001b[0m\u001b[0mline\u001b[0m\u001b[0;34m)\u001b[0m\u001b[0;34m\u001b[0m\u001b[0;34m\u001b[0m\u001b[0m\n\u001b[1;32m    199\u001b[0m \u001b[0;34m\u001b[0m\u001b[0m\n",
      "\u001b[0;32m~/miniconda3/lib/python3.7/site-packages/spython/utils/terminal.py\u001b[0m in \u001b[0;36mstream_command\u001b[0;34m(cmd, no_newline_regexp, sudo, sudo_options)\u001b[0m\n\u001b[1;32m    142\u001b[0m     \u001b[0mreturn_code\u001b[0m \u001b[0;34m=\u001b[0m \u001b[0mprocess\u001b[0m\u001b[0;34m.\u001b[0m\u001b[0mwait\u001b[0m\u001b[0;34m(\u001b[0m\u001b[0;34m)\u001b[0m\u001b[0;34m\u001b[0m\u001b[0;34m\u001b[0m\u001b[0m\n\u001b[1;32m    143\u001b[0m     \u001b[0;32mif\u001b[0m \u001b[0mreturn_code\u001b[0m\u001b[0;34m:\u001b[0m\u001b[0;34m\u001b[0m\u001b[0;34m\u001b[0m\u001b[0m\n\u001b[0;32m--> 144\u001b[0;31m         \u001b[0;32mraise\u001b[0m \u001b[0msubprocess\u001b[0m\u001b[0;34m.\u001b[0m\u001b[0mCalledProcessError\u001b[0m\u001b[0;34m(\u001b[0m\u001b[0mreturn_code\u001b[0m\u001b[0;34m,\u001b[0m \u001b[0mcmd\u001b[0m\u001b[0;34m)\u001b[0m\u001b[0;34m\u001b[0m\u001b[0;34m\u001b[0m\u001b[0m\n\u001b[0m\u001b[1;32m    145\u001b[0m \u001b[0;34m\u001b[0m\u001b[0m\n\u001b[1;32m    146\u001b[0m \u001b[0;34m\u001b[0m\u001b[0m\n",
      "\u001b[0;31mCalledProcessError\u001b[0m: Command '['singularity', 'exec', '--bind', '/home/tkamth/bescape/docs/datasets/music/input/:/app/input', '--bind', '/home/tkamth/bescape/docs/datasets/music/output/:/app/output', '--bind', '/home/tkamth/bescape/docs/datasets/music/gep/:/app/gep', '~/singularity_images/bescape_singularity.sif', 'python3', '/app/musicpy.py']' returned non-zero exit status 255."
     ]
    }
   ],
   "source": [
    "from bescape import Bescape\n",
    "import os\n",
    "# singularity\n",
    "deconv = Bescape(service='singularity', path_singularity='~/singularity_images/bescape_singularity.sif')\n",
    "wd = os.getcwd()\n",
    "print(wd)\n",
    "dir_annot = wd + '/datasets/music/gep/'\n",
    "dir_input = wd + '/datasets/music/input'\n",
    "dir_output = wd + '/datasets/music/output'\n",
    "\n",
    "deconv.deconvolute_sc(dir_annot=dir_annot, \n",
    "                      dir_input=dir_input,\n",
    "                      dir_output=dir_output, \n",
    "                      method='music', \n",
    "                      celltype_var='cluster', \n",
    "                      celltype_sel=[\"alpha\",\"beta\",\"delta\",\"gamma\",\"acinar\",\"ductal\"], \n",
    "                      sample_var='sample')"
   ]
  },
  {
   "cell_type": "code",
   "execution_count": null,
   "metadata": {},
   "outputs": [],
   "source": []
  }
 ],
 "metadata": {
  "kernelspec": {
   "display_name": "Python 3",
   "language": "python",
   "name": "python3"
  },
  "language_info": {
   "codemirror_mode": {
    "name": "ipython",
    "version": 3
   },
   "file_extension": ".py",
   "mimetype": "text/x-python",
   "name": "python",
   "nbconvert_exporter": "python",
   "pygments_lexer": "ipython3",
   "version": "3.7.6"
  }
 },
 "nbformat": 4,
 "nbformat_minor": 4
}
