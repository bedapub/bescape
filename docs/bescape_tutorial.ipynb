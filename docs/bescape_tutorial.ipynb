{
 "cells": [
  {
   "cell_type": "markdown",
   "metadata": {},
   "source": [
    "# BESCAPE - tutorial on deconvolution of bulk RNA using single-cell annotations\n",
    "\n",
    "BESCAPE (BESCA Proportion Estimator) is a deconvolution module. It utilises single-cell annotations coming from the BESCA workflow to build a Gene Expression Profile (GEP). This GEP is used as a basis vector to deconvolute bulk RNA samples i.e. predict cell type proportions within a sample.\n",
    "\n",
    "BESCAPE has a useful implementation, whereby the user can specify their own GEP, as well as choose any of the supported deconvolution methods. Thus, it effectively allows decoupling of the deconvolution algorithm from its underlying GEP (basis vector).\n",
    "\n",
    "This tutorial presents the workflow for deconvolution, as well as the link to BESCA single-cell annotations.\n",
    "\n",
    "We assume that either Docker or Singularity as well as their respective APIs have been installed. Otherwise, please refer to the installation guide here."
   ]
  },
  {
   "cell_type": "code",
   "execution_count": 1,
   "metadata": {},
   "outputs": [],
   "source": [
    "from bescape import Bescape"
   ]
  },
  {
   "cell_type": "markdown",
   "metadata": {},
   "source": [
    "## 1. Initialising the predictor object\n",
    "\n",
    "Initiate the decovnolution predictor object. Requires either a Docker, or a Singularity image to run. Both methods are shown below.\n",
    "\n",
    "### 1.1 Docker\n",
    "To initiate the Bescape deconvolution object, we to set the service to 'docker' and docker_image='bedapub/bescape:version'. It will first look for local docker images, and if not available, will pull the bescape image from DockerHub. This also means that one can locally build a customised Docker image from the BESCAPE source and set use it in the Bescape object.\n",
    "\n",
    "\n",
    "The module distinguishes between two types of basis vectors as input:\n",
    "\n",
    "### 1. Gene Expression Profile (GEP) \n",
    "- generated from single-cell annotations using __BESCA.export__ functions\n",
    "- currently supported packages: \n",
    "    1. bescape - in-house method based on nu-SVR (CIBERSORT)\n",
    "- implemented in the __Bescape.deconvolute_gep( )__ method\n",
    "\n",
    "\n",
    "### 2. Single-cell annotation AnnData object \n",
    "- should contain single-cell annotations of multiple samples from which the deconvolution method generates its own GEP\n",
    "- currently supported packages:\n",
    "    1. MuSiC\n",
    "    2. SCDC\n",
    "- implemented in the __Bescape.deconvolute_sc( )__ method\n",
    "\n",
    "    \n",
    "\n",
    "\n"
   ]
  },
  {
   "cell_type": "code",
   "execution_count": 4,
   "metadata": {
    "scrolled": false
   },
   "outputs": [
    {
     "name": "stdout",
     "output_type": "stream",
     "text": [
      "Docker client instantiated\n",
      "Docker image loaded:  phanmir/bescape:0.4\n",
      "[1] \"Performing deconvolution using MuSiC\"\n",
      "Creating Relative Abudance Matrix...\n",
      "Creating Variance Matrix...\n",
      "Creating Library Size Matrix...\n",
      "Used 18467 common genes...\n",
      "Used 11 cell types in deconvolution...\n",
      "Sub1 has common genes 16988 ...\n",
      "Sub2 has common genes 16881 ...\n",
      "Sub3 has common genes 17098 ...\n",
      "Sub4 has common genes 17097 ...\n",
      "Sub5 has common genes 16715 ...\n",
      "Sub6 has common genes 16705 ...\n",
      "Sub7 has common genes 17154 ...\n",
      "Sub8 has common genes 17155 ...\n",
      "Sub9 has common genes 17112 ...\n",
      "Sub10 has common genes 16423 ...\n",
      "Sub11 has common genes 17039 ...\n",
      "Sub12 has common genes 17015 ...\n",
      "Sub13 has common genes 17183 ...\n",
      "Sub14 has common genes 16833 ...\n",
      "Sub15 has common genes 16818 ...\n",
      "Sub16 has common genes 17283 ...\n",
      "Sub17 has common genes 16956 ...\n",
      "Sub18 has common genes 17460 ...\n",
      "Sub19 has common genes 17162 ...\n",
      "Sub20 has common genes 16945 ...\n",
      "Sub21 has common genes 16926 ...\n",
      "Sub22 has common genes 17112 ...\n",
      "Sub23 has common genes 17208 ...\n",
      "Sub24 has common genes 17336 ...\n",
      "Sub25 has common genes 17155 ...\n",
      "Sub26 has common genes 16491 ...\n",
      "Sub27 has common genes 17171 ...\n",
      "Sub28 has common genes 16935 ...\n",
      "Sub29 has common genes 17138 ...\n",
      "Sub30 has common genes 16656 ...\n",
      "Sub31 has common genes 16481 ...\n",
      "Sub32 has common genes 17044 ...\n",
      "Sub33 has common genes 17222 ...\n",
      "Sub34 has common genes 17268 ...\n",
      "Sub35 has common genes 17527 ...\n",
      "Sub36 has common genes 16990 ...\n",
      "Sub37 has common genes 16916 ...\n",
      "Sub38 has common genes 17040 ...\n",
      "Sub39 has common genes 17005 ...\n",
      "Sub40 has common genes 16901 ...\n",
      "Sub41 has common genes 17033 ...\n",
      "Sub42 has common genes 17060 ...\n",
      "Sub43 has common genes 17202 ...\n",
      "Sub44 has common genes 17473 ...\n",
      "Sub45 has common genes 17361 ...\n",
      "Sub46 has common genes 17025 ...\n",
      "Sub47 has common genes 17066 ...\n",
      "Sub48 has common genes 17199 ...\n",
      "Sub49 has common genes 16652 ...\n",
      "Sub50 has common genes 16774 ...\n",
      "Sub51 has common genes 17505 ...\n",
      "Sub52 has common genes 17147 ...\n",
      "Sub53 has common genes 17318 ...\n",
      "Sub54 has common genes 17264 ...\n",
      "Sub55 has common genes 17214 ...\n",
      "Sub56 has common genes 17090 ...\n",
      "Sub57 has common genes 17067 ...\n",
      "Sub58 has common genes 17102 ...\n",
      "Sub59 has common genes 17136 ...\n",
      "Sub60 has common genes 17408 ...\n",
      "Sub61 has common genes 17254 ...\n",
      "Sub62 has common genes 16494 ...\n",
      "Sub63 has common genes 16692 ...\n",
      "Sub64 has common genes 16870 ...\n",
      "Sub65 has common genes 17320 ...\n",
      "Sub66 has common genes 17249 ...\n",
      "Sub67 has common genes 16892 ...\n",
      "Sub68 has common genes 17244 ...\n",
      "Sub69 has common genes 17027 ...\n",
      "Sub70 has common genes 17248 ...\n",
      "Sub71 has common genes 16797 ...\n",
      "Sub72 has common genes 16694 ...\n",
      "Sub73 has common genes 16906 ...\n",
      "Sub74 has common genes 16824 ...\n",
      "Sub75 has common genes 17190 ...\n",
      "Sub76 has common genes 17402 ...\n",
      "Sub77 has common genes 17282 ...\n",
      "Sub78 has common genes 17505 ...\n",
      "Sub79 has common genes 16908 ...\n",
      "Sub80 has common genes 17043 ...\n",
      "Sub81 has common genes 17096 ...\n",
      "Sub82 has common genes 17161 ...\n",
      "Sub83 has common genes 16600 ...\n",
      "Sub84 has common genes 17126 ...\n",
      "Sub85 has common genes 16839 ...\n",
      "Sub86 has common genes 16657 ...\n",
      "Sub87 has common genes 17115 ...\n",
      "Sub88 has common genes 16976 ...\n",
      "Sub89 has common genes 16799 ...\n",
      "Deconvolution using MuSiC finished successfully\n"
     ]
    }
   ],
   "source": [
    "# docker\n",
    "deconv = Bescape(service='docker', docker_image='phanmir/bescape:0.4')\n",
    "\n",
    "# deconvolute using MuSiC - sc based basis vector\n",
    "deconv.deconvolute_sc(dir_annot='./datasets/music/gep/', \n",
    "                      dir_input='./datasets/music/input',\n",
    "                      dir_output='./datasets/music/output', \n",
    "                      method='music')"
   ]
  },
  {
   "cell_type": "markdown",
   "metadata": {},
   "source": [
    "### 1.2 Singularity\n",
    "When using Singularity, the user specifies the absolute path for the Singularity container file. If the path is not given, Bescape will attempt to pull a docker image from Dockerhub and build a new copy of a Singularity container file."
   ]
  },
  {
   "cell_type": "code",
   "execution_count": 9,
   "metadata": {},
   "outputs": [
    {
     "name": "stdout",
     "output_type": "stream",
     "text": [
      "/Users/mqp/projects/bescape-git/bescape.sif\n",
      "Singularity client loaded\n",
      "Singularity container loaded:  /Users/mqp/projects/bescape-git/bescape.sif\n",
      "['/Users/mqp/projects/bescape-git/tests/deconv_sc/input/:/app/input', '/Users/mqp/projects/bescape-git/tests/deconv_sc/output/:/app/output', '/Users/mqp/projects/bescape-git/tests/deconv_sc/gep/:/app/gep']\n"
     ]
    }
   ],
   "source": [
    "# docker\n",
    "#deconv = Bescape(service='docker', dockerhub_image='phanmir/bescape:0.2')\n",
    "from bescape import Bescape\n",
    "# singularity\n",
    "deconv = Bescape(service='singularity', path_singularity='/Users/mqp/projects/bescape-git/bescape.sif')\n",
    "\n",
    "dir_annot = './datasets/music/gep/'\n",
    "dir_input = './datasets/music/input'\n",
    "dir_output = './datasets/music/output'\n",
    "\n",
    "deconv.deconvolute_sc(dir_annot=dir_annot, dir_input=dir_input,\n",
    "                      dir_output=dir_output, method='music')"
   ]
  },
  {
   "cell_type": "code",
   "execution_count": null,
   "metadata": {},
   "outputs": [],
   "source": []
  }
 ],
 "metadata": {
  "kernelspec": {
   "display_name": "Python 3",
   "language": "python",
   "name": "python3"
  },
  "language_info": {
   "codemirror_mode": {
    "name": "ipython",
    "version": 3
   },
   "file_extension": ".py",
   "mimetype": "text/x-python",
   "name": "python",
   "nbconvert_exporter": "python",
   "pygments_lexer": "ipython3",
   "version": "3.7.7"
  }
 },
 "nbformat": 4,
 "nbformat_minor": 4
}
