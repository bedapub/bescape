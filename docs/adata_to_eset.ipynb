{
 "cells": [
  {
   "cell_type": "code",
   "execution_count": 1,
   "metadata": {},
   "outputs": [
    {
     "name": "stderr",
     "output_type": "stream",
     "text": [
      "/Users/mqp/miniconda3/envs/scanpy/lib/python3.7/site-packages/anndata/_core/anndata.py:21: FutureWarning: pandas.core.index is deprecated and will be removed in a future version.  The public classes are available in the top-level namespace.\n",
      "  from pandas.core.index import RangeIndex\n"
     ]
    }
   ],
   "source": [
    "import pandas as pd\n",
    "import numpy as np\n",
    "import scanpy as sc\n",
    "import anndata"
   ]
  },
  {
   "cell_type": "code",
   "execution_count": 2,
   "metadata": {},
   "outputs": [],
   "source": [
    "# Read anndata objects. Assume working directory to be 'becape/docs/'\n",
    "dir_baron = \"./anndata/baron.h5ad\"\n",
    "adata_baron = sc.read(dir_baron)\n",
    "\n",
    "dir_segerstolpe = \"./anndata/segerstolpe.h5ad\"\n",
    "adata_segerstolpe = sc.read(dir_segerstolpe)"
   ]
  },
  {
   "cell_type": "code",
   "execution_count": 3,
   "metadata": {},
   "outputs": [],
   "source": [
    "# Conversion to R changes cell annotations to factors \n",
    "# -> export cell type annotations to be later rewritten into the R obj\n",
    "# here we are selecting ['dblabel'] as the annotation column. Modify this for the desired annotation column\n",
    "\n",
    "baron_annot = adata_baron.obs['dblabel']\n",
    "baron_annot.to_csv('./anndata/baron_annot.csv', index=False, header=False)\n",
    "\n",
    "segerstolpe_annot = adata_segerstolpe.obs['dblabel']\n",
    "segerstolpe_annot.to_csv('./anndata/segerstolpe_annot.csv', index=False, header=False)"
   ]
  },
  {
   "cell_type": "code",
   "execution_count": 4,
   "metadata": {},
   "outputs": [],
   "source": [
    "# For SCDC and MuSiC we want expressions stored in AnnData.raw us they contain all sequenced genes, \n",
    "# not just highly variable genes filtered further downstream of the BESCA workflow\n",
    "obs = adata_baron.obs\n",
    "var = adata_baron.raw.var\n",
    "uns = adata_baron.uns\n",
    "raw = adata_baron.raw\n",
    "adata_baron_raw = anndata.AnnData(raw.X, obs=obs, var=var, uns=uns, raw=raw)\n",
    "\n",
    "obs = adata_segerstolpe.obs\n",
    "var = adata_segerstolpe.raw.var\n",
    "uns = adata_segerstolpe.uns\n",
    "raw = adata_segerstolpe.raw\n",
    "adata_segerstolpe_raw = anndata.AnnData(raw.X, obs=obs, var=var, uns=uns, raw=raw)"
   ]
  },
  {
   "cell_type": "markdown",
   "metadata": {},
   "source": [
    "### Fix segerstolpe index - needs to contain patient id\n",
    "This is required by the BisqueRNA::SeuratToExpressionSet() R package: https://rdrr.io/cran/BisqueRNA/man/SeuratToExpressionSet.html.  \n",
    "The sample index has to contain subscriptable individual patient IDs.\n",
    "\n",
    "Example correct patient ID: **ERR1630619_T2D1**, where ERR1630619 is the cell UMI and T2D1 is the unique patient ID we want.  \n",
    "We will then specify this in the R script that calls the `BisqueRNA::SeuratToExpressionSet()` method\n",
    "\n",
    "`BisqueRNA::SeuratToExpressionSet(seurat.object, delimiter='_', position='2', version = \"v3\")`  \n",
    "`delimiter` = Character to split cell names with to find individual ID.   \n",
    "`position` = Integer indicating 1-indexed position of individual ID after splitting cell name with delimiter. R indexing starts from 1\n"
   ]
  },
  {
   "cell_type": "code",
   "execution_count": 5,
   "metadata": {
    "scrolled": true
   },
   "outputs": [
    {
     "data": {
      "text/html": [
       "<div>\n",
       "<style scoped>\n",
       "    .dataframe tbody tr th:only-of-type {\n",
       "        vertical-align: middle;\n",
       "    }\n",
       "\n",
       "    .dataframe tbody tr th {\n",
       "        vertical-align: top;\n",
       "    }\n",
       "\n",
       "    .dataframe thead th {\n",
       "        text-align: right;\n",
       "    }\n",
       "</style>\n",
       "<table border=\"1\" class=\"dataframe\">\n",
       "  <thead>\n",
       "    <tr style=\"text-align: right;\">\n",
       "      <th></th>\n",
       "      <th>Sample Characteristic[organism]</th>\n",
       "      <th>Sample Characteristic Ontology Term[organism]</th>\n",
       "      <th>Sample Characteristic[individual]</th>\n",
       "      <th>Sample Characteristic Ontology Term[individual]</th>\n",
       "      <th>Sample Characteristic[sex]</th>\n",
       "      <th>Sample Characteristic Ontology Term[sex]</th>\n",
       "      <th>Sample Characteristic[age]</th>\n",
       "      <th>Sample Characteristic Ontology Term[age]</th>\n",
       "      <th>Sample Characteristic[body mass index]</th>\n",
       "      <th>Sample Characteristic Ontology Term[body mass index]</th>\n",
       "      <th>...</th>\n",
       "      <th>score_ILC3_scanpy</th>\n",
       "      <th>score_ActTcell_scanpy</th>\n",
       "      <th>score_NaiTcell_scanpy</th>\n",
       "      <th>score_McellGut_scanpy</th>\n",
       "      <th>score_Mast_scanpy</th>\n",
       "      <th>celltype0</th>\n",
       "      <th>celltype1</th>\n",
       "      <th>celltype2</th>\n",
       "      <th>celltype3</th>\n",
       "      <th>dblabel</th>\n",
       "    </tr>\n",
       "  </thead>\n",
       "  <tbody>\n",
       "    <tr>\n",
       "      <th>ERR1630619_T2D1</th>\n",
       "      <td>Homo sapiens</td>\n",
       "      <td>http://purl.obolibrary.org/obo/NCBITaxon_9606</td>\n",
       "      <td>T2D1</td>\n",
       "      <td>NaN</td>\n",
       "      <td>male</td>\n",
       "      <td>http://purl.obolibrary.org/obo/PATO_0000384</td>\n",
       "      <td>57 year</td>\n",
       "      <td>NaN</td>\n",
       "      <td>24 kilogram per square meter</td>\n",
       "      <td>NaN</td>\n",
       "      <td>...</td>\n",
       "      <td>0.076371</td>\n",
       "      <td>0.121068</td>\n",
       "      <td>-0.011084</td>\n",
       "      <td>-0.011230</td>\n",
       "      <td>-0.073558</td>\n",
       "      <td>epithelial cell</td>\n",
       "      <td>enteroendocrine cell</td>\n",
       "      <td>pancreatic A cell</td>\n",
       "      <td>pancreatic A cell</td>\n",
       "      <td>pancreatic A cell</td>\n",
       "    </tr>\n",
       "    <tr>\n",
       "      <th>ERR1630620_T2D1</th>\n",
       "      <td>Homo sapiens</td>\n",
       "      <td>http://purl.obolibrary.org/obo/NCBITaxon_9606</td>\n",
       "      <td>T2D1</td>\n",
       "      <td>NaN</td>\n",
       "      <td>male</td>\n",
       "      <td>http://purl.obolibrary.org/obo/PATO_0000384</td>\n",
       "      <td>57 year</td>\n",
       "      <td>NaN</td>\n",
       "      <td>24 kilogram per square meter</td>\n",
       "      <td>NaN</td>\n",
       "      <td>...</td>\n",
       "      <td>-0.085040</td>\n",
       "      <td>0.289098</td>\n",
       "      <td>-0.003337</td>\n",
       "      <td>-0.056040</td>\n",
       "      <td>0.064756</td>\n",
       "      <td>epithelial cell</td>\n",
       "      <td>enteroendocrine cell</td>\n",
       "      <td>pancreatic A cell</td>\n",
       "      <td>pancreatic A cell</td>\n",
       "      <td>pancreatic A cell</td>\n",
       "    </tr>\n",
       "    <tr>\n",
       "      <th>ERR1630621_T2D1</th>\n",
       "      <td>Homo sapiens</td>\n",
       "      <td>http://purl.obolibrary.org/obo/NCBITaxon_9606</td>\n",
       "      <td>T2D1</td>\n",
       "      <td>NaN</td>\n",
       "      <td>male</td>\n",
       "      <td>http://purl.obolibrary.org/obo/PATO_0000384</td>\n",
       "      <td>57 year</td>\n",
       "      <td>NaN</td>\n",
       "      <td>24 kilogram per square meter</td>\n",
       "      <td>NaN</td>\n",
       "      <td>...</td>\n",
       "      <td>-0.059220</td>\n",
       "      <td>-0.043709</td>\n",
       "      <td>-0.006920</td>\n",
       "      <td>-0.046709</td>\n",
       "      <td>-0.120627</td>\n",
       "      <td>epithelial cell</td>\n",
       "      <td>enteroendocrine cell</td>\n",
       "      <td>pancreatic A cell</td>\n",
       "      <td>pancreatic A cell</td>\n",
       "      <td>pancreatic A cell</td>\n",
       "    </tr>\n",
       "    <tr>\n",
       "      <th>ERR1630622_T2D1</th>\n",
       "      <td>Homo sapiens</td>\n",
       "      <td>http://purl.obolibrary.org/obo/NCBITaxon_9606</td>\n",
       "      <td>T2D1</td>\n",
       "      <td>NaN</td>\n",
       "      <td>male</td>\n",
       "      <td>http://purl.obolibrary.org/obo/PATO_0000384</td>\n",
       "      <td>57 year</td>\n",
       "      <td>NaN</td>\n",
       "      <td>24 kilogram per square meter</td>\n",
       "      <td>NaN</td>\n",
       "      <td>...</td>\n",
       "      <td>-0.086758</td>\n",
       "      <td>-0.365977</td>\n",
       "      <td>-0.013570</td>\n",
       "      <td>0.144259</td>\n",
       "      <td>0.112262</td>\n",
       "      <td>epithelial cell</td>\n",
       "      <td>enteroendocrine cell</td>\n",
       "      <td>PP cell</td>\n",
       "      <td>PP cell</td>\n",
       "      <td>PP cell</td>\n",
       "    </tr>\n",
       "    <tr>\n",
       "      <th>ERR1630623_T2D1</th>\n",
       "      <td>Homo sapiens</td>\n",
       "      <td>http://purl.obolibrary.org/obo/NCBITaxon_9606</td>\n",
       "      <td>T2D1</td>\n",
       "      <td>NaN</td>\n",
       "      <td>male</td>\n",
       "      <td>http://purl.obolibrary.org/obo/PATO_0000384</td>\n",
       "      <td>57 year</td>\n",
       "      <td>NaN</td>\n",
       "      <td>24 kilogram per square meter</td>\n",
       "      <td>NaN</td>\n",
       "      <td>...</td>\n",
       "      <td>0.020336</td>\n",
       "      <td>-0.054373</td>\n",
       "      <td>-0.032912</td>\n",
       "      <td>0.222236</td>\n",
       "      <td>-0.253834</td>\n",
       "      <td>epithelial cell</td>\n",
       "      <td>enteroendocrine cell</td>\n",
       "      <td>PP cell</td>\n",
       "      <td>PP cell</td>\n",
       "      <td>PP cell</td>\n",
       "    </tr>\n",
       "  </tbody>\n",
       "</table>\n",
       "<p>5 rows × 141 columns</p>\n",
       "</div>"
      ],
      "text/plain": [
       "                Sample Characteristic[organism]  \\\n",
       "ERR1630619_T2D1                    Homo sapiens   \n",
       "ERR1630620_T2D1                    Homo sapiens   \n",
       "ERR1630621_T2D1                    Homo sapiens   \n",
       "ERR1630622_T2D1                    Homo sapiens   \n",
       "ERR1630623_T2D1                    Homo sapiens   \n",
       "\n",
       "                 Sample Characteristic Ontology Term[organism]  \\\n",
       "ERR1630619_T2D1  http://purl.obolibrary.org/obo/NCBITaxon_9606   \n",
       "ERR1630620_T2D1  http://purl.obolibrary.org/obo/NCBITaxon_9606   \n",
       "ERR1630621_T2D1  http://purl.obolibrary.org/obo/NCBITaxon_9606   \n",
       "ERR1630622_T2D1  http://purl.obolibrary.org/obo/NCBITaxon_9606   \n",
       "ERR1630623_T2D1  http://purl.obolibrary.org/obo/NCBITaxon_9606   \n",
       "\n",
       "                Sample Characteristic[individual]  \\\n",
       "ERR1630619_T2D1                              T2D1   \n",
       "ERR1630620_T2D1                              T2D1   \n",
       "ERR1630621_T2D1                              T2D1   \n",
       "ERR1630622_T2D1                              T2D1   \n",
       "ERR1630623_T2D1                              T2D1   \n",
       "\n",
       "                 Sample Characteristic Ontology Term[individual]  \\\n",
       "ERR1630619_T2D1                                              NaN   \n",
       "ERR1630620_T2D1                                              NaN   \n",
       "ERR1630621_T2D1                                              NaN   \n",
       "ERR1630622_T2D1                                              NaN   \n",
       "ERR1630623_T2D1                                              NaN   \n",
       "\n",
       "                Sample Characteristic[sex]  \\\n",
       "ERR1630619_T2D1                       male   \n",
       "ERR1630620_T2D1                       male   \n",
       "ERR1630621_T2D1                       male   \n",
       "ERR1630622_T2D1                       male   \n",
       "ERR1630623_T2D1                       male   \n",
       "\n",
       "                    Sample Characteristic Ontology Term[sex]  \\\n",
       "ERR1630619_T2D1  http://purl.obolibrary.org/obo/PATO_0000384   \n",
       "ERR1630620_T2D1  http://purl.obolibrary.org/obo/PATO_0000384   \n",
       "ERR1630621_T2D1  http://purl.obolibrary.org/obo/PATO_0000384   \n",
       "ERR1630622_T2D1  http://purl.obolibrary.org/obo/PATO_0000384   \n",
       "ERR1630623_T2D1  http://purl.obolibrary.org/obo/PATO_0000384   \n",
       "\n",
       "                Sample Characteristic[age]  \\\n",
       "ERR1630619_T2D1                    57 year   \n",
       "ERR1630620_T2D1                    57 year   \n",
       "ERR1630621_T2D1                    57 year   \n",
       "ERR1630622_T2D1                    57 year   \n",
       "ERR1630623_T2D1                    57 year   \n",
       "\n",
       "                 Sample Characteristic Ontology Term[age]  \\\n",
       "ERR1630619_T2D1                                       NaN   \n",
       "ERR1630620_T2D1                                       NaN   \n",
       "ERR1630621_T2D1                                       NaN   \n",
       "ERR1630622_T2D1                                       NaN   \n",
       "ERR1630623_T2D1                                       NaN   \n",
       "\n",
       "                Sample Characteristic[body mass index]  \\\n",
       "ERR1630619_T2D1           24 kilogram per square meter   \n",
       "ERR1630620_T2D1           24 kilogram per square meter   \n",
       "ERR1630621_T2D1           24 kilogram per square meter   \n",
       "ERR1630622_T2D1           24 kilogram per square meter   \n",
       "ERR1630623_T2D1           24 kilogram per square meter   \n",
       "\n",
       "                 Sample Characteristic Ontology Term[body mass index]  ...  \\\n",
       "ERR1630619_T2D1                                                NaN     ...   \n",
       "ERR1630620_T2D1                                                NaN     ...   \n",
       "ERR1630621_T2D1                                                NaN     ...   \n",
       "ERR1630622_T2D1                                                NaN     ...   \n",
       "ERR1630623_T2D1                                                NaN     ...   \n",
       "\n",
       "                score_ILC3_scanpy score_ActTcell_scanpy score_NaiTcell_scanpy  \\\n",
       "ERR1630619_T2D1          0.076371              0.121068             -0.011084   \n",
       "ERR1630620_T2D1         -0.085040              0.289098             -0.003337   \n",
       "ERR1630621_T2D1         -0.059220             -0.043709             -0.006920   \n",
       "ERR1630622_T2D1         -0.086758             -0.365977             -0.013570   \n",
       "ERR1630623_T2D1          0.020336             -0.054373             -0.032912   \n",
       "\n",
       "                 score_McellGut_scanpy score_Mast_scanpy        celltype0  \\\n",
       "ERR1630619_T2D1              -0.011230         -0.073558  epithelial cell   \n",
       "ERR1630620_T2D1              -0.056040          0.064756  epithelial cell   \n",
       "ERR1630621_T2D1              -0.046709         -0.120627  epithelial cell   \n",
       "ERR1630622_T2D1               0.144259          0.112262  epithelial cell   \n",
       "ERR1630623_T2D1               0.222236         -0.253834  epithelial cell   \n",
       "\n",
       "                            celltype1          celltype2          celltype3  \\\n",
       "ERR1630619_T2D1  enteroendocrine cell  pancreatic A cell  pancreatic A cell   \n",
       "ERR1630620_T2D1  enteroendocrine cell  pancreatic A cell  pancreatic A cell   \n",
       "ERR1630621_T2D1  enteroendocrine cell  pancreatic A cell  pancreatic A cell   \n",
       "ERR1630622_T2D1  enteroendocrine cell            PP cell            PP cell   \n",
       "ERR1630623_T2D1  enteroendocrine cell            PP cell            PP cell   \n",
       "\n",
       "                           dblabel  \n",
       "ERR1630619_T2D1  pancreatic A cell  \n",
       "ERR1630620_T2D1  pancreatic A cell  \n",
       "ERR1630621_T2D1  pancreatic A cell  \n",
       "ERR1630622_T2D1            PP cell  \n",
       "ERR1630623_T2D1            PP cell  \n",
       "\n",
       "[5 rows x 141 columns]"
      ]
     },
     "execution_count": 5,
     "metadata": {},
     "output_type": "execute_result"
    }
   ],
   "source": [
    "idx = adata_segerstolpe_raw.obs.index\n",
    "idx_new = []\n",
    "for i, val in enumerate(idx):\n",
    "    out = val + '_' +adata_segerstolpe_raw.obs['Sample Characteristic[individual]'][i]\n",
    "    idx_new.append(out)\n",
    "    \n",
    "adata_segerstolpe_raw.obs.index = idx_new\n",
    "adata_segerstolpe_raw.obs.head()"
   ]
  },
  {
   "cell_type": "markdown",
   "metadata": {},
   "source": [
    "### Convert to SingleCellExperiment R Object\n",
    "\n",
    "saves anndata as SCE object. Postprocess in R\n",
    "\n",
    "based on tutorial here: https://github.com/LuckyMD/Code_snippets/blob/master/Seurat_to_anndata.ipynb\n",
    "\n",
    "These `%%R` magic functions allow us to run R from jupyter cells. The conversion R script is also provided in the 'bescape/docs/sce_to_eset.R'. For large datasets, one might need to run the script from the command line to allocate more memory as follows:\n",
    "\n",
    "`$ env R_MAX_VSIZE=100Gb R`\n",
    "\n",
    "then from R shell:  \n",
    "`source('sce_to_eset.R')`\n",
    "\n",
    "\n",
    "Note: To convert from SCE to ESET, we need Seurat version  3.0.2, later versions contain library(reticulate) will cause jupyter to crash:\n",
    "https://stackoverflow.com/questions/58611486/r-kernel-crashes-while-loading-r-package-using-rpy2"
   ]
  },
  {
   "cell_type": "code",
   "execution_count": 3,
   "metadata": {},
   "outputs": [],
   "source": [
    "import anndata2ri\n",
    "anndata2ri.activate()"
   ]
  },
  {
   "cell_type": "code",
   "execution_count": 4,
   "metadata": {},
   "outputs": [],
   "source": [
    "%load_ext rpy2.ipython"
   ]
  },
  {
   "cell_type": "markdown",
   "metadata": {},
   "source": [
    "First convert anndata to sce"
   ]
  },
  {
   "cell_type": "code",
   "execution_count": 39,
   "metadata": {},
   "outputs": [],
   "source": [
    "%%R -i adata_baron_raw\n",
    "saveRDS(adata_baron_raw, './anndata/baron_raw_sce.RDS')"
   ]
  },
  {
   "cell_type": "code",
   "execution_count": 37,
   "metadata": {},
   "outputs": [],
   "source": [
    "%%R -i adata_segerstolpe_raw\n",
    "saveRDS(adata_segerstolpe_raw, './anndata/segerstolpe_raw_sce.RDS')"
   ]
  },
  {
   "cell_type": "markdown",
   "metadata": {},
   "source": [
    "Convert SCE to eset"
   ]
  },
  {
   "cell_type": "code",
   "execution_count": null,
   "metadata": {
    "scrolled": true
   },
   "outputs": [
    {
     "name": "stderr",
     "output_type": "stream",
     "text": [
      "R[write to console]: \n",
      " *** caught segfault ***\n",
      "\n",
      "R[write to console]: address 0x10, cause 'memory not mapped'\n",
      "\n",
      "R[write to console]: \n",
      "Traceback:\n",
      "\n",
      "R[write to console]:  1: \n",
      "R[write to console]: py_initialize(config$python, config$libpython, config$pythonhome, \n",
      "R[write to console]:     config$virtualenv_activate, config$version >= \"3.0\", interactive(), \n",
      "R[write to console]:     numpy_load_error)\n",
      "R[write to console]: \n",
      "\n",
      "R[write to console]:  2: \n",
      "R[write to console]: doTryCatch(return(expr), name, parentenv, handler)\n",
      "R[write to console]: \n",
      "\n",
      "R[write to console]:  3: \n",
      "R[write to console]: tryCatchOne(expr, names, parentenv, handlers[[1L]])\n",
      "R[write to console]: \n",
      "\n",
      "R[write to console]:  4: \n",
      "R[write to console]: tryCatchList(expr, classes, parentenv, handlers)\n",
      "R[write to console]: \n",
      "\n",
      "R[write to console]:  5: \n",
      "R[write to console]: tryCatch({\n",
      "R[write to console]:     py_initialize(config$python, config$libpython, config$pythonhome, \n",
      "R[write to console]:         config$virtualenv_activate, config$version >= \"3.0\", \n",
      "R[write to console]:         interactive(), numpy_load_error)\n",
      "R[write to console]: }, error = function(e) {\n",
      "R[write to console]:     Sys.setenv(PATH = oldpath)\n",
      "R[write to console]:     if (is.na(curr_session_env)) {\n",
      "R[write to console]:         Sys.unsetenv(\"R_SESSION_INITIALIZED\")\n",
      "R[write to console]:     }\n",
      "R[write to console]:     else {\n",
      "R[write to console]:         Sys.setenv(R_SESSION_INITIALIZED = curr_session_env)\n",
      "R[write to console]:     }\n",
      "R[write to console]:     stop(e)\n",
      "R[write to console]: })\n",
      "R[write to console]: \n",
      "\n",
      "R[write to console]:  6: \n",
      "R[write to console]: initialize_python(required_module, use_environment)\n",
      "R[write to console]: \n",
      "\n",
      "R[write to console]:  7: \n",
      "R[write to console]: ensure_python_initialized(required_module = module)\n",
      "R[write to console]: \n",
      "\n",
      "R[write to console]:  8: \n",
      "R[write to console]: import(module)\n",
      "R[write to console]: \n",
      "\n",
      "R[write to console]:  9: \n",
      "R[write to console]: doTryCatch(return(expr), name, parentenv, handler)\n",
      "R[write to console]: \n",
      "\n",
      "R[write to console]: 10: \n",
      "R[write to console]: tryCatchOne(expr, names, parentenv, handlers[[1L]])\n",
      "R[write to console]: \n",
      "\n",
      "R[write to console]: 11: \n",
      "R[write to console]: tryCatchList(expr, classes, parentenv, handlers)\n",
      "R[write to console]: \n",
      "\n",
      "R[write to console]: 12: \n",
      "R[write to console]: tryCatch({\n",
      "R[write to console]:     import(module)\n",
      "R[write to console]:     TRUE\n",
      "R[write to console]: }, error = clear_error_handler(FALSE))\n",
      "R[write to console]: \n",
      "\n",
      "R[write to console]: 13: \n",
      "R[write to console]: reticulate::py_module_available(\"leidenalg\")\n",
      "R[write to console]: \n",
      "\n",
      "R[write to console]: 14: \n",
      "R[write to console]: fun(libname, pkgname)\n",
      "R[write to console]: \n",
      "\n",
      "R[write to console]: 15: \n",
      "R[write to console]: doTryCatch(return(expr), name, parentenv, handler)\n",
      "R[write to console]: \n",
      "\n",
      "R[write to console]: 16: \n",
      "R[write to console]: tryCatchOne(expr, names, parentenv, handlers[[1L]])\n",
      "R[write to console]: \n",
      "\n",
      "R[write to console]: 17: \n",
      "R[write to console]: tryCatchList(expr, classes, parentenv, handlers)\n",
      "R[write to console]: \n",
      "\n",
      "R[write to console]: 18: \n",
      "R[write to console]: tryCatch(fun(libname, pkgname), error = identity)\n",
      "R[write to console]: \n",
      "\n",
      "R[write to console]: 19: \n",
      "R[write to console]: runHook(\".onLoad\", env, package.lib, package)\n",
      "R[write to console]: \n",
      "\n",
      "R[write to console]: 20: \n",
      "R[write to console]: loadNamespace(j <- i[[1L]], c(lib.loc, .libPaths()), versionCheck = vI[[j]])\n",
      "R[write to console]: \n",
      "\n",
      "R[write to console]: 21: \n",
      "R[write to console]: asNamespace(ns)\n",
      "R[write to console]: \n",
      "\n",
      "R[write to console]: 22: \n",
      "R[write to console]: namespaceImportFrom(ns, loadNamespace(j <- i[[1L]], c(lib.loc, \n",
      "R[write to console]:     .libPaths()), versionCheck = vI[[j]]), i[[2L]], from = package)\n",
      "R[write to console]: \n",
      "\n",
      "R[write to console]: 23: \n",
      "R[write to console]: loadNamespace(package, lib.loc)\n",
      "R[write to console]: \n",
      "\n",
      "R[write to console]: 24: \n",
      "R[write to console]: doTryCatch(return(expr), name, parentenv, handler)\n",
      "R[write to console]: \n",
      "\n",
      "R[write to console]: 25: \n",
      "R[write to console]: tryCatchOne(expr, names, parentenv, handlers[[1L]])\n",
      "R[write to console]: \n",
      "\n",
      "R[write to console]: 26: \n",
      "R[write to console]: tryCatchList(expr, classes, parentenv, handlers)\n",
      "R[write to console]: \n",
      "\n",
      "R[write to console]: 27: \n",
      "R[write to console]: tryCatch({\n",
      "R[write to console]:     attr(package, \"LibPath\") <- which.lib.loc\n",
      "R[write to console]:     ns <- loadNamespace(package, lib.loc)\n",
      "R[write to console]:     env <- attachNamespace(ns, pos = pos, deps, exclude, include.only)\n",
      "R[write to console]: }, error = function(e) {\n",
      "R[write to console]:     P <- if (!is.null(cc <- conditionCall(e))) \n",
      "R[write to console]:         paste(\" in\", deparse(cc)[1L])\n",
      "R[write to console]:     else \"\"\n",
      "R[write to console]:     msg <- gettextf(\"package or namespace load failed for %s%s:\\n %s\", \n",
      "R[write to console]:         sQuote(package), P, conditionMessage(e))\n",
      "R[write to console]:     if (logical.return) \n",
      "R[write to console]:         message(paste(\"Error:\", msg), domain = NA)\n",
      "R[write to console]:     else stop(msg, call. = FALSE, domain = NA)\n",
      "R[write to console]: })\n",
      "R[write to console]: \n",
      "\n",
      "R[write to console]: 28: \n",
      "R[write to console]: library(Seurat)\n",
      "R[write to console]: \n",
      "\n",
      "R[write to console]: 29: \n",
      "R[write to console]: withVisible({\n",
      "R[write to console]:     library(Seurat)\n",
      "R[write to console]:     library(BisqueRNA)\n",
      "R[write to console]:     sce_to_seurat <- function(sce_path, sc_anno_path, filename = \"eset.RDS\") {\n",
      "R[write to console]:         sce <- readRDS(sce_path)\n",
      "R[write to console]:         sc_anno <- read.csv(sc_anno_path, header = FALSE)\n",
      "R[write to console]:         seurat <- as.Seurat(sce, counts = NULL, data = \"X\")\n",
      "R[write to console]:         seurat@meta.data$celltype_dream <- sc_anno$V1\n",
      "R[write to console]:         Idents(seurat) <- \"celltype_dream\"\n",
      "R[write to console]:         seurat@assays$RNA@counts <- seurat@assays$RNA@data\n",
      "R[write to console]:         if (!is.null(filename)) {\n",
      "R[write to console]:             saveRDS(seurat, file = filename)\n",
      "R[write to console]:         }\n",
      "R[write to console]:         return(seurat)\n",
      "R[write to console]:     }\n",
      "R[write to console]:     seurat_to_eset <- function(seurat, delim = \"-\", idx = 2, \n",
      "R[write to console]:         filename = \"seurat.RDS\") {\n",
      "R[write to console]:         out.eset <- BisqueRNA::SeuratToExpressionSet(seurat, \n",
      "R[write to console]:             delim, idx, version = \"v3\")\n",
      "R[write to console]:         out.eset@featureData@data$GeneID <- featureNames(out.eset)\n",
      "R[write to console]:         out.eset@phenoData@data$cluster <- as.character(out.eset@phenoData@data$cellType)\n",
      "R[write to console]:         varMetadata(out.eset) <- data.frame(labelDescription = colnames(out.eset@phenoData@data), \n",
      "R[write to console]:             stringsAsFactors = FALSE)\n",
      "R[write to console]:         out.eset@featureData@varMetadata <- data.frame(labelDescription = \"GeneID\", \n",
      "R[write to console]:             stringsAsFactors = FALSE)\n",
      "R[write to console]:         rownames(out.eset@featureData@varMetadata) <- \"GeneID\"\n",
      "R[write to console]:         saveRDS(out.eset, file = filename)\n",
      "R[write to console]:         return(out.eset)\n",
      "R[write to console]:     }\n",
      "R[write to console]:     seurat <- sce_to_seurat(sce_path = \"./anndata/segerstolpe_raw_sce.RDS\", \n",
      "R[write to console]:         sc_anno_path = \"./anndata/segerstolpe_annot.csv\", filename = NULL)\n",
      "R[write to console]:     eset <- seurat_to_eset(seurat, delim = \"_\", idx = 2, filename = \"./anndata/segerstolpe_raw_eset.RDS\")\n",
      "R[write to console]: })\n",
      "R[write to console]: \n",
      "\n",
      "R[write to console]: 30: \n",
      "R[write to console]: (function (expr, envir = parent.frame(), enclos = if (is.list(envir) || \n",
      "R[write to console]:     is.pairlist(envir)) parent.frame() else baseenv()) \n",
      "R[write to console]: .Internal(eval(expr, envir, enclos)))(expression(withVisible({\n",
      "R[write to console]:     library(Seurat)\n",
      "R[write to console]:     library(BisqueRNA)\n",
      "R[write to console]:     sce_to_seurat <- function(sce_path, sc_anno_path, filename = \"eset.RDS\") {\n",
      "R[write to console]:         sce <- readRDS(sce_path)\n",
      "R[write to console]:         sc_anno <- read.csv(sc_anno_path, header = FALSE)\n",
      "R[write to console]:         seurat <- as.Seurat(sce, counts = NULL, data = \"X\")\n",
      "R[write to console]:         seurat@meta.data$celltype_dream <- sc_anno$V1\n"
     ]
    },
    {
     "name": "stderr",
     "output_type": "stream",
     "text": [
      "R[write to console]:         Idents(seurat) <- \"celltype_dream\"\n",
      "R[write to console]:         seurat@assays$RNA@counts <- seurat@assays$RNA@data\n",
      "R[write to console]:         if (!is.null(filename)) {\n",
      "R[write to console]:             saveRDS(seurat, file = filename)\n",
      "R[write to console]:         }\n",
      "R[write to console]:         return(seurat)\n",
      "R[write to console]:     }\n",
      "R[write to console]:     seurat_to_eset <- function(seurat, delim = \"-\", idx = 2, \n",
      "R[write to console]:         filename = \"seurat.RDS\") {\n",
      "R[write to console]:         out.eset <- BisqueRNA::SeuratToExpressionSet(seurat, \n",
      "R[write to console]:             delim, idx, version = \"v3\")\n",
      "R[write to console]:         out.eset@featureData@data$GeneID <- featureNames(out.eset)\n",
      "R[write to console]:         out.eset@phenoData@data$cluster <- as.character(out.eset@phenoData@data$cellType)\n",
      "R[write to console]:         varMetadata(out.eset) <- data.frame(labelDescription = colnames(out.eset@phenoData@data), \n",
      "R[write to console]:             stringsAsFactors = FALSE)\n",
      "R[write to console]:         out.eset@featureData@varMetadata <- data.frame(labelDescription = \"GeneID\", \n",
      "R[write to console]:             stringsAsFactors = FALSE)\n",
      "R[write to console]:         rownames(out.eset@featureData@varMetadata) <- \"GeneID\"\n",
      "R[write to console]:         saveRDS(out.eset, file = filename)\n",
      "R[write to console]:         return(out.eset)\n",
      "R[write to console]:     }\n",
      "R[write to console]:     seurat <- sce_to_seurat(sce_path = \"./anndata/segerstolpe_raw_sce.RDS\", \n",
      "R[write to console]:         sc_anno_path = \"./anndata/segerstolpe_annot.csv\", filename = NULL)\n",
      "R[write to console]:     eset <- seurat_to_eset(seurat, delim = \"_\", idx = 2, filename = \"./anndata/segerstolpe_raw_eset.RDS\")\n",
      "R[write to console]: })))\n",
      "R[write to console]: \n",
      "\n",
      "R[write to console]: 31: \n",
      "R[write to console]: (function (expr, envir = parent.frame(), enclos = if (is.list(envir) || \n",
      "R[write to console]:     is.pairlist(envir)) parent.frame() else baseenv()) \n",
      "R[write to console]: .Internal(eval(expr, envir, enclos)))(expression(withVisible({\n",
      "R[write to console]:     library(Seurat)\n",
      "R[write to console]:     library(BisqueRNA)\n",
      "R[write to console]:     sce_to_seurat <- function(sce_path, sc_anno_path, filename = \"eset.RDS\") {\n",
      "R[write to console]:         sce <- readRDS(sce_path)\n",
      "R[write to console]:         sc_anno <- read.csv(sc_anno_path, header = FALSE)\n",
      "R[write to console]:         seurat <- as.Seurat(sce, counts = NULL, data = \"X\")\n",
      "R[write to console]:         seurat@meta.data$celltype_dream <- sc_anno$V1\n",
      "R[write to console]:         Idents(seurat) <- \"celltype_dream\"\n",
      "R[write to console]:         seurat@assays$RNA@counts <- seurat@assays$RNA@data\n",
      "R[write to console]:         if (!is.null(filename)) {\n",
      "R[write to console]:             saveRDS(seurat, file = filename)\n",
      "R[write to console]:         }\n",
      "R[write to console]:         return(seurat)\n",
      "R[write to console]:     }\n",
      "R[write to console]:     seurat_to_eset <- function(seurat, delim = \"-\", idx = 2, \n",
      "R[write to console]:         filename = \"seurat.RDS\") {\n",
      "R[write to console]:         out.eset <- BisqueRNA::SeuratToExpressionSet(seurat, \n",
      "R[write to console]:             delim, idx, version = \"v3\")\n",
      "R[write to console]:         out.eset@featureData@data$GeneID <- featureNames(out.eset)\n",
      "R[write to console]:         out.eset@phenoData@data$cluster <- as.character(out.eset@phenoData@data$cellType)\n",
      "R[write to console]:         varMetadata(out.eset) <- data.frame(labelDescription = colnames(out.eset@phenoData@data), \n",
      "R[write to console]:             stringsAsFactors = FALSE)\n",
      "R[write to console]:         out.eset@featureData@varMetadata <- data.frame(labelDescription = \"GeneID\", \n",
      "R[write to console]:             stringsAsFactors = FALSE)\n",
      "R[write to console]:         rownames(out.eset@featureData@varMetadata) <- \"GeneID\"\n",
      "R[write to console]:         saveRDS(out.eset, file = filename)\n",
      "R[write to console]:         return(out.eset)\n",
      "R[write to console]:     }\n",
      "R[write to console]:     seurat <- sce_to_seurat(sce_path = \"./anndata/segerstolpe_raw_sce.RDS\", \n",
      "R[write to console]:         sc_anno_path = \"./anndata/segerstolpe_annot.csv\", filename = NULL)\n",
      "R[write to console]:     eset <- seurat_to_eset(seurat, delim = \"_\", idx = 2, filename = \"./anndata/segerstolpe_raw_eset.RDS\")\n",
      "R[write to console]: })))\n",
      "R[write to console]: \n",
      "\n",
      "R[write to console]: \n",
      "Possible actions:\n",
      "1: abort (with core dump, if enabled)\n",
      "2: normal R exit\n",
      "3: exit R without saving workspace\n",
      "4: exit R saving workspace\n",
      "\n"
     ]
    },
    {
     "name": "stdout",
     "output_type": "stream",
     "text": [
      "Selection: 2\n"
     ]
    },
    {
     "name": "stderr",
     "output_type": "stream",
     "text": [
      "From cffi callback <function _consoleread at 0x136f3bcb0>:\n",
      "Traceback (most recent call last):\n",
      "  File \"/Users/mqp/miniconda3/envs/scanpy/lib/python3.7/site-packages/ipykernel/kernelbase.py\", line 884, in _input_request\n",
      "    ident, reply = self.session.recv(self.stdin_socket, 0)\n",
      "  File \"/Users/mqp/miniconda3/envs/scanpy/lib/python3.7/site-packages/jupyter_client/session.py\", line 813, in recv\n",
      "    msg_list = socket.recv_multipart(mode, copy=copy)\n",
      "  File \"/Users/mqp/miniconda3/envs/scanpy/lib/python3.7/site-packages/zmq/sugar/socket.py\", line 475, in recv_multipart\n",
      "    parts = [self.recv(flags, copy=copy, track=track)]\n",
      "  File \"zmq/backend/cython/socket.pyx\", line 791, in zmq.backend.cython.socket.Socket.recv\n",
      "  File \"zmq/backend/cython/socket.pyx\", line 827, in zmq.backend.cython.socket.Socket.recv\n",
      "  File \"zmq/backend/cython/socket.pyx\", line 186, in zmq.backend.cython.socket._recv_copy\n",
      "  File \"zmq/backend/cython/checkrc.pxd\", line 12, in zmq.backend.cython.checkrc._check_rc\n",
      "KeyboardInterrupt\n",
      "\n",
      "During handling of the above exception, another exception occurred:\n",
      "\n",
      "Traceback (most recent call last):\n",
      "  File \"/Users/mqp/miniconda3/envs/scanpy/lib/python3.7/site-packages/rpy2/rinterface_lib/callbacks.py\", line 64, in _consoleread\n",
      "    reply = consoleread(s)\n",
      "  File \"/Users/mqp/miniconda3/envs/scanpy/lib/python3.7/site-packages/rpy2/rinterface_lib/callbacks.py\", line 50, in consoleread\n",
      "    return input(prompt)\n",
      "  File \"/Users/mqp/miniconda3/envs/scanpy/lib/python3.7/site-packages/ipykernel/kernelbase.py\", line 859, in raw_input\n",
      "    password=False,\n",
      "  File \"/Users/mqp/miniconda3/envs/scanpy/lib/python3.7/site-packages/ipykernel/kernelbase.py\", line 889, in _input_request\n",
      "    raise KeyboardInterrupt\n",
      "KeyboardInterrupt\n",
      "From cffi callback <function _consoleread at 0x136f3bcb0>:\n",
      "Traceback (most recent call last):\n",
      "  File \"/Users/mqp/miniconda3/envs/scanpy/lib/python3.7/site-packages/ipykernel/kernelbase.py\", line 884, in _input_request\n",
      "    ident, reply = self.session.recv(self.stdin_socket, 0)\n",
      "  File \"/Users/mqp/miniconda3/envs/scanpy/lib/python3.7/site-packages/jupyter_client/session.py\", line 813, in recv\n",
      "    msg_list = socket.recv_multipart(mode, copy=copy)\n",
      "  File \"/Users/mqp/miniconda3/envs/scanpy/lib/python3.7/site-packages/zmq/sugar/socket.py\", line 475, in recv_multipart\n",
      "    parts = [self.recv(flags, copy=copy, track=track)]\n",
      "  File \"zmq/backend/cython/socket.pyx\", line 791, in zmq.backend.cython.socket.Socket.recv\n",
      "  File \"zmq/backend/cython/socket.pyx\", line 827, in zmq.backend.cython.socket.Socket.recv\n",
      "  File \"zmq/backend/cython/socket.pyx\", line 186, in zmq.backend.cython.socket._recv_copy\n",
      "  File \"zmq/backend/cython/checkrc.pxd\", line 12, in zmq.backend.cython.checkrc._check_rc\n",
      "KeyboardInterrupt\n",
      "\n",
      "During handling of the above exception, another exception occurred:\n",
      "\n",
      "Traceback (most recent call last):\n",
      "  File \"/Users/mqp/miniconda3/envs/scanpy/lib/python3.7/site-packages/rpy2/rinterface_lib/callbacks.py\", line 64, in _consoleread\n",
      "    reply = consoleread(s)\n",
      "  File \"/Users/mqp/miniconda3/envs/scanpy/lib/python3.7/site-packages/rpy2/rinterface_lib/callbacks.py\", line 50, in consoleread\n",
      "    return input(prompt)\n",
      "  File \"/Users/mqp/miniconda3/envs/scanpy/lib/python3.7/site-packages/ipykernel/kernelbase.py\", line 859, in raw_input\n",
      "    password=False,\n",
      "  File \"/Users/mqp/miniconda3/envs/scanpy/lib/python3.7/site-packages/ipykernel/kernelbase.py\", line 889, in _input_request\n",
      "    raise KeyboardInterrupt\n",
      "KeyboardInterrupt\n"
     ]
    }
   ],
   "source": [
    "%%R \n",
    "library(Seurat)\n",
    "library(BisqueRNA)\n",
    "\n",
    "sce_to_seurat <- function(sce_path, sc_anno_path, filename='eset.RDS'){\n",
    "    sce <- readRDS(sce_path)\n",
    "    sc_anno <- read.csv(sc_anno_path, header=FALSE)\n",
    "\n",
    "    seurat <- as.Seurat(sce, counts=NULL, data='X')\n",
    "\n",
    "# TODO add celltype_dream as param\n",
    "    seurat@meta.data$celltype_dream <- sc_anno$V1\n",
    "    Idents(seurat)<-\"celltype_dream\"\n",
    "    seurat@assays$RNA@counts<-seurat@assays$RNA@data\n",
    "    if(!is.null(filename)){\n",
    "        saveRDS(seurat, file=filename)\n",
    "    }\n",
    "    return(seurat)\n",
    "\n",
    "}\n",
    "\n",
    "seurat_to_eset <- function(seurat, delim='-', idx=2, filename='seurat.RDS'){\n",
    "    # Idents(liver_h5ad) %>% head() # to check sample names\n",
    "    out.eset <- BisqueRNA::SeuratToExpressionSet(seurat, delim, idx, version = 'v3')\n",
    "    # fix GeneID\n",
    "    out.eset@featureData@data$GeneID <- featureNames(out.eset)\n",
    "    #assign cluster to just characters\n",
    "    out.eset@phenoData@data$cluster<-as.character(out.eset@phenoData@data$cellType)\n",
    "    #update vardata\n",
    "    varMetadata(out.eset)<-data.frame(labelDescription=colnames(out.eset@phenoData@data),stringsAsFactors=FALSE)\n",
    "\n",
    "    out.eset@featureData@varMetadata<-data.frame(labelDescription=\"GeneID\",stringsAsFactors=FALSE)\n",
    "\n",
    "    rownames(out.eset@featureData@varMetadata)<-\"GeneID\"\n",
    "\n",
    "    saveRDS(out.eset, file=filename)\n",
    "    return(out.eset)\n",
    "}\n",
    "\n",
    "\n",
    "seurat <- sce_to_seurat(sce_path='./anndata/segerstolpe_raw_sce.RDS', \n",
    "                        sc_anno_path='./anndata/segerstolpe_annot.csv', \n",
    "                        filename=NULL)\n",
    "eset <- seurat_to_eset(seurat, delim='_', idx=2, filename='./anndata/segerstolpe_raw_eset.RDS')\n"
   ]
  },
  {
   "cell_type": "markdown",
   "metadata": {},
   "source": [
    "### CRC dataset - subset only tumour patients"
   ]
  },
  {
   "cell_type": "code",
   "execution_count": 4,
   "metadata": {},
   "outputs": [
    {
     "data": {
      "text/html": [
       "<div>\n",
       "<style scoped>\n",
       "    .dataframe tbody tr th:only-of-type {\n",
       "        vertical-align: middle;\n",
       "    }\n",
       "\n",
       "    .dataframe tbody tr th {\n",
       "        vertical-align: top;\n",
       "    }\n",
       "\n",
       "    .dataframe thead th {\n",
       "        text-align: right;\n",
       "    }\n",
       "</style>\n",
       "<table border=\"1\" class=\"dataframe\">\n",
       "  <thead>\n",
       "    <tr style=\"text-align: right;\">\n",
       "      <th></th>\n",
       "      <th>CELL</th>\n",
       "      <th>CONDITION</th>\n",
       "      <th>Patient</th>\n",
       "      <th>Tissue</th>\n",
       "      <th>Sample</th>\n",
       "      <th>Cell_type</th>\n",
       "      <th>Cell_subtype</th>\n",
       "      <th>percent_mito</th>\n",
       "      <th>n_counts</th>\n",
       "      <th>n_genes</th>\n",
       "      <th>...</th>\n",
       "      <th>MHumanCD45p_scseqCMs6_Eff</th>\n",
       "      <th>MkHumanCD45p_scseqCMs6_Eff</th>\n",
       "      <th>MHumanCD45p_scseqCMs6_Endo</th>\n",
       "      <th>MkHumanCD45p_scseqCMs6_Endo</th>\n",
       "      <th>clusterID</th>\n",
       "      <th>cell_names</th>\n",
       "      <th>cell_group</th>\n",
       "      <th>scell_group</th>\n",
       "      <th>sscell_group</th>\n",
       "      <th>celltype_dream</th>\n",
       "    </tr>\n",
       "    <tr>\n",
       "      <th>index</th>\n",
       "      <th></th>\n",
       "      <th></th>\n",
       "      <th></th>\n",
       "      <th></th>\n",
       "      <th></th>\n",
       "      <th></th>\n",
       "      <th></th>\n",
       "      <th></th>\n",
       "      <th></th>\n",
       "      <th></th>\n",
       "      <th></th>\n",
       "      <th></th>\n",
       "      <th></th>\n",
       "      <th></th>\n",
       "      <th></th>\n",
       "      <th></th>\n",
       "      <th></th>\n",
       "      <th></th>\n",
       "      <th></th>\n",
       "      <th></th>\n",
       "      <th></th>\n",
       "    </tr>\n",
       "  </thead>\n",
       "  <tbody>\n",
       "    <tr>\n",
       "      <th>SMC01-T_AAACCTGCATACGCCG</th>\n",
       "      <td>SMC01-T_AAACCTGCATACGCCG</td>\n",
       "      <td>Tumor</td>\n",
       "      <td>SMC01</td>\n",
       "      <td>Tumor</td>\n",
       "      <td>SMC01-T</td>\n",
       "      <td>Epithelial cells</td>\n",
       "      <td>CMS2</td>\n",
       "      <td>0.0</td>\n",
       "      <td>33782.0</td>\n",
       "      <td>4782</td>\n",
       "      <td>...</td>\n",
       "      <td>-0.184670</td>\n",
       "      <td>0.250</td>\n",
       "      <td>-0.048650</td>\n",
       "      <td>0.076923</td>\n",
       "      <td>C17.nCD45.Epi...nNa.nCC.nCy.nCh.nAc</td>\n",
       "      <td>C17Epi</td>\n",
       "      <td>Epi</td>\n",
       "      <td>Epi</td>\n",
       "      <td>Epi</td>\n",
       "      <td>epithelial.cells</td>\n",
       "    </tr>\n",
       "    <tr>\n",
       "      <th>SMC01-T_AAACCTGGTCGCATAT</th>\n",
       "      <td>SMC01-T_AAACCTGGTCGCATAT</td>\n",
       "      <td>Tumor</td>\n",
       "      <td>SMC01</td>\n",
       "      <td>Tumor</td>\n",
       "      <td>SMC01-T</td>\n",
       "      <td>Epithelial cells</td>\n",
       "      <td>CMS2</td>\n",
       "      <td>0.0</td>\n",
       "      <td>31032.0</td>\n",
       "      <td>5160</td>\n",
       "      <td>...</td>\n",
       "      <td>-0.276030</td>\n",
       "      <td>0.125</td>\n",
       "      <td>-0.047704</td>\n",
       "      <td>0.076923</td>\n",
       "      <td>C17.nCD45.Epi...nNa.nCC.nCy.nCh.nAc</td>\n",
       "      <td>C17Epi</td>\n",
       "      <td>Epi</td>\n",
       "      <td>Epi</td>\n",
       "      <td>Epi</td>\n",
       "      <td>epithelial.cells</td>\n",
       "    </tr>\n",
       "    <tr>\n",
       "      <th>SMC01-T_AAACCTGTCCCTTGCA</th>\n",
       "      <td>SMC01-T_AAACCTGTCCCTTGCA</td>\n",
       "      <td>Tumor</td>\n",
       "      <td>SMC01</td>\n",
       "      <td>Tumor</td>\n",
       "      <td>SMC01-T</td>\n",
       "      <td>Epithelial cells</td>\n",
       "      <td>CMS2</td>\n",
       "      <td>0.0</td>\n",
       "      <td>6092.0</td>\n",
       "      <td>1677</td>\n",
       "      <td>...</td>\n",
       "      <td>-0.122945</td>\n",
       "      <td>0.125</td>\n",
       "      <td>-0.033656</td>\n",
       "      <td>0.000000</td>\n",
       "      <td>C17.nCD45.Epi...nNa.nCC.nCy.nCh.nAc</td>\n",
       "      <td>C17Epi</td>\n",
       "      <td>Epi</td>\n",
       "      <td>Epi</td>\n",
       "      <td>Epi</td>\n",
       "      <td>epithelial.cells</td>\n",
       "    </tr>\n",
       "    <tr>\n",
       "      <th>SMC01-T_AAACGGGAGGGAAACA</th>\n",
       "      <td>SMC01-T_AAACGGGAGGGAAACA</td>\n",
       "      <td>Tumor</td>\n",
       "      <td>SMC01</td>\n",
       "      <td>Tumor</td>\n",
       "      <td>SMC01-T</td>\n",
       "      <td>Epithelial cells</td>\n",
       "      <td>CMS2</td>\n",
       "      <td>0.0</td>\n",
       "      <td>3413.0</td>\n",
       "      <td>1193</td>\n",
       "      <td>...</td>\n",
       "      <td>-0.261535</td>\n",
       "      <td>0.000</td>\n",
       "      <td>-0.029198</td>\n",
       "      <td>0.000000</td>\n",
       "      <td>C17.nCD45.Epi...nNa.nCC.nCy.nCh.nAc</td>\n",
       "      <td>C17Epi</td>\n",
       "      <td>Epi</td>\n",
       "      <td>Epi</td>\n",
       "      <td>Epi</td>\n",
       "      <td>epithelial.cells</td>\n",
       "    </tr>\n",
       "    <tr>\n",
       "      <th>SMC01-T_AAACGGGGTATAGGTA</th>\n",
       "      <td>SMC01-T_AAACGGGGTATAGGTA</td>\n",
       "      <td>Tumor</td>\n",
       "      <td>SMC01</td>\n",
       "      <td>Tumor</td>\n",
       "      <td>SMC01-T</td>\n",
       "      <td>Epithelial cells</td>\n",
       "      <td>CMS2</td>\n",
       "      <td>0.0</td>\n",
       "      <td>20416.0</td>\n",
       "      <td>3843</td>\n",
       "      <td>...</td>\n",
       "      <td>-0.375577</td>\n",
       "      <td>0.000</td>\n",
       "      <td>-0.036710</td>\n",
       "      <td>0.076923</td>\n",
       "      <td>C17.nCD45.Epi...nNa.nCC.nCy.nCh.nAc</td>\n",
       "      <td>C17Epi</td>\n",
       "      <td>Epi</td>\n",
       "      <td>Epi</td>\n",
       "      <td>Epi</td>\n",
       "      <td>epithelial.cells</td>\n",
       "    </tr>\n",
       "  </tbody>\n",
       "</table>\n",
       "<p>5 rows × 49 columns</p>\n",
       "</div>"
      ],
      "text/plain": [
       "                                              CELL CONDITION Patient Tissue  \\\n",
       "index                                                                         \n",
       "SMC01-T_AAACCTGCATACGCCG  SMC01-T_AAACCTGCATACGCCG     Tumor   SMC01  Tumor   \n",
       "SMC01-T_AAACCTGGTCGCATAT  SMC01-T_AAACCTGGTCGCATAT     Tumor   SMC01  Tumor   \n",
       "SMC01-T_AAACCTGTCCCTTGCA  SMC01-T_AAACCTGTCCCTTGCA     Tumor   SMC01  Tumor   \n",
       "SMC01-T_AAACGGGAGGGAAACA  SMC01-T_AAACGGGAGGGAAACA     Tumor   SMC01  Tumor   \n",
       "SMC01-T_AAACGGGGTATAGGTA  SMC01-T_AAACGGGGTATAGGTA     Tumor   SMC01  Tumor   \n",
       "\n",
       "                           Sample         Cell_type Cell_subtype  \\\n",
       "index                                                              \n",
       "SMC01-T_AAACCTGCATACGCCG  SMC01-T  Epithelial cells         CMS2   \n",
       "SMC01-T_AAACCTGGTCGCATAT  SMC01-T  Epithelial cells         CMS2   \n",
       "SMC01-T_AAACCTGTCCCTTGCA  SMC01-T  Epithelial cells         CMS2   \n",
       "SMC01-T_AAACGGGAGGGAAACA  SMC01-T  Epithelial cells         CMS2   \n",
       "SMC01-T_AAACGGGGTATAGGTA  SMC01-T  Epithelial cells         CMS2   \n",
       "\n",
       "                          percent_mito  n_counts  n_genes  ...  \\\n",
       "index                                                      ...   \n",
       "SMC01-T_AAACCTGCATACGCCG           0.0   33782.0     4782  ...   \n",
       "SMC01-T_AAACCTGGTCGCATAT           0.0   31032.0     5160  ...   \n",
       "SMC01-T_AAACCTGTCCCTTGCA           0.0    6092.0     1677  ...   \n",
       "SMC01-T_AAACGGGAGGGAAACA           0.0    3413.0     1193  ...   \n",
       "SMC01-T_AAACGGGGTATAGGTA           0.0   20416.0     3843  ...   \n",
       "\n",
       "                         MHumanCD45p_scseqCMs6_Eff  \\\n",
       "index                                                \n",
       "SMC01-T_AAACCTGCATACGCCG                 -0.184670   \n",
       "SMC01-T_AAACCTGGTCGCATAT                 -0.276030   \n",
       "SMC01-T_AAACCTGTCCCTTGCA                 -0.122945   \n",
       "SMC01-T_AAACGGGAGGGAAACA                 -0.261535   \n",
       "SMC01-T_AAACGGGGTATAGGTA                 -0.375577   \n",
       "\n",
       "                          MkHumanCD45p_scseqCMs6_Eff  \\\n",
       "index                                                  \n",
       "SMC01-T_AAACCTGCATACGCCG                       0.250   \n",
       "SMC01-T_AAACCTGGTCGCATAT                       0.125   \n",
       "SMC01-T_AAACCTGTCCCTTGCA                       0.125   \n",
       "SMC01-T_AAACGGGAGGGAAACA                       0.000   \n",
       "SMC01-T_AAACGGGGTATAGGTA                       0.000   \n",
       "\n",
       "                          MHumanCD45p_scseqCMs6_Endo  \\\n",
       "index                                                  \n",
       "SMC01-T_AAACCTGCATACGCCG                   -0.048650   \n",
       "SMC01-T_AAACCTGGTCGCATAT                   -0.047704   \n",
       "SMC01-T_AAACCTGTCCCTTGCA                   -0.033656   \n",
       "SMC01-T_AAACGGGAGGGAAACA                   -0.029198   \n",
       "SMC01-T_AAACGGGGTATAGGTA                   -0.036710   \n",
       "\n",
       "                          MkHumanCD45p_scseqCMs6_Endo  \\\n",
       "index                                                   \n",
       "SMC01-T_AAACCTGCATACGCCG                     0.076923   \n",
       "SMC01-T_AAACCTGGTCGCATAT                     0.076923   \n",
       "SMC01-T_AAACCTGTCCCTTGCA                     0.000000   \n",
       "SMC01-T_AAACGGGAGGGAAACA                     0.000000   \n",
       "SMC01-T_AAACGGGGTATAGGTA                     0.076923   \n",
       "\n",
       "                                                    clusterID  cell_names  \\\n",
       "index                                                                       \n",
       "SMC01-T_AAACCTGCATACGCCG  C17.nCD45.Epi...nNa.nCC.nCy.nCh.nAc      C17Epi   \n",
       "SMC01-T_AAACCTGGTCGCATAT  C17.nCD45.Epi...nNa.nCC.nCy.nCh.nAc      C17Epi   \n",
       "SMC01-T_AAACCTGTCCCTTGCA  C17.nCD45.Epi...nNa.nCC.nCy.nCh.nAc      C17Epi   \n",
       "SMC01-T_AAACGGGAGGGAAACA  C17.nCD45.Epi...nNa.nCC.nCy.nCh.nAc      C17Epi   \n",
       "SMC01-T_AAACGGGGTATAGGTA  C17.nCD45.Epi...nNa.nCC.nCy.nCh.nAc      C17Epi   \n",
       "\n",
       "                          cell_group  scell_group  sscell_group  \\\n",
       "index                                                             \n",
       "SMC01-T_AAACCTGCATACGCCG         Epi          Epi           Epi   \n",
       "SMC01-T_AAACCTGGTCGCATAT         Epi          Epi           Epi   \n",
       "SMC01-T_AAACCTGTCCCTTGCA         Epi          Epi           Epi   \n",
       "SMC01-T_AAACGGGAGGGAAACA         Epi          Epi           Epi   \n",
       "SMC01-T_AAACGGGGTATAGGTA         Epi          Epi           Epi   \n",
       "\n",
       "                            celltype_dream  \n",
       "index                                       \n",
       "SMC01-T_AAACCTGCATACGCCG  epithelial.cells  \n",
       "SMC01-T_AAACCTGGTCGCATAT  epithelial.cells  \n",
       "SMC01-T_AAACCTGTCCCTTGCA  epithelial.cells  \n",
       "SMC01-T_AAACGGGAGGGAAACA  epithelial.cells  \n",
       "SMC01-T_AAACGGGGTATAGGTA  epithelial.cells  \n",
       "\n",
       "[5 rows x 49 columns]"
      ]
     },
     "execution_count": 4,
     "metadata": {},
     "output_type": "execute_result"
    }
   ],
   "source": [
    "adata_crc.obs.head()"
   ]
  },
  {
   "cell_type": "code",
   "execution_count": 10,
   "metadata": {},
   "outputs": [],
   "source": [
    "t_idx = adata_crc.obs.loc[adata_crc.obs['CONDITION']=='Tumor'].index\n",
    "crc_tumor = adata_crc[t_idx].copy()"
   ]
  },
  {
   "cell_type": "code",
   "execution_count": null,
   "metadata": {
    "scrolled": true
   },
   "outputs": [],
   "source": [
    "# check if patient index separable using '-': for BisqueRNA::SeuratToExpressionset conversion\n",
    "idx = crc_tumor.obs.index\n",
    "subjects = [i.split('-')[0] for i in idx]\n",
    "set(subjects)"
   ]
  },
  {
   "cell_type": "code",
   "execution_count": 15,
   "metadata": {},
   "outputs": [],
   "source": [
    "# set main X to raw.X\n",
    "\n",
    "obs = crc_tumor.obs\n",
    "var = crc_tumor.raw.var\n",
    "uns = crc_tumor.uns\n",
    "raw = crc_tumor.raw\n",
    "\n",
    "crc_tumor_raw = anndata.AnnData(raw.X, obs=obs, var=var, uns=uns, raw=raw)\n",
    "crc_tumor_raw.write(os.path.join('./', 'crc_tumor_raw.h5ad'))\n",
    "\n",
    "# export annot as converting to R object will replace them with factors\n",
    "crc_tumor_raw_annot = crc_tumor_raw.obs['celltype_dream']\n",
    "crc_tumor_raw_annot.to_csv('./crc_tumor_annot.csv', index=False, header=False)"
   ]
  },
  {
   "cell_type": "markdown",
   "metadata": {},
   "source": [
    "convert to R obj"
   ]
  },
  {
   "cell_type": "code",
   "execution_count": 16,
   "metadata": {},
   "outputs": [],
   "source": [
    "import anndata2ri\n",
    "anndata2ri.activate()"
   ]
  },
  {
   "cell_type": "code",
   "execution_count": 17,
   "metadata": {},
   "outputs": [],
   "source": [
    "%load_ext rpy2.ipython"
   ]
  },
  {
   "cell_type": "code",
   "execution_count": 18,
   "metadata": {},
   "outputs": [],
   "source": [
    "%%R -i crc_tumor_raw\n",
    "saveRDS(crc_tumor_raw, 'crc_tumor_raw_sce.RDS')"
   ]
  },
  {
   "cell_type": "code",
   "execution_count": null,
   "metadata": {},
   "outputs": [],
   "source": []
  },
  {
   "cell_type": "markdown",
   "metadata": {},
   "source": [
    "### Subset datasets using Geosketch\n",
    "\n",
    "SCDC too slow with full datasets. Aim for max 8000 cells in total"
   ]
  },
  {
   "cell_type": "code",
   "execution_count": null,
   "metadata": {},
   "outputs": [],
   "source": [
    "def geosketch_subsample(adata, N=4000, filename='adata_geosketch.h5ad', column='<last_column>', raw=True):\n",
    "    \n",
    "    if (column == '<last_column>'):\n",
    "        column = adata.obs.columns[-1]\n",
    "    print('Initiating Geosketch. This process may take a while for large datasets.')\n",
    "    if raw:\n",
    "        E = adata.raw.X.toarray() # convert from sparse to ndarray\n",
    "        sketch_index = gs(E, N, replace=False, verbose=True)\n",
    "        X_sketch = E[sketch_index]\n",
    "        var = adata.raw.var\n",
    "        raw_dat = None\n",
    "        \n",
    "    else:\n",
    "        sketch_index = gs(adata.X, N, replace=False, verbose=True)\n",
    "        X_sketch = adata.X[sketch_index]\n",
    "        var = adata.var\n",
    "        raw_dat = adata.raw[sketch_index]\n",
    "        \n",
    "    obs = adata.obs.iloc[sketch_index]\n",
    "    uns = adata.uns.copy()\n",
    "    rmkeys = ['neighbors', 'pca', 'rank_genes_groups'] # remove these entries from adata.uns as they cause issues with geosketching\n",
    "    for key in rmkeys:\n",
    "        uns.pop(key, None)\n",
    "\n",
    "    \n",
    "    adata_sub = anndata.AnnData(X_sketch, obs=obs, var=var, uns=uns, raw=raw_dat)\n",
    "    adata_sub.write(os.path.join('./', filename))\n",
    "\n",
    "    anno = adata_sub.obs[column]\n",
    "    anno.to_csv(os.path.join('./', filename.split('.')[0] + '_scanno.csv'), index=False, header=False)\n",
    "    \n",
    "    return adata_sub\n"
   ]
  },
  {
   "cell_type": "code",
   "execution_count": null,
   "metadata": {},
   "outputs": [],
   "source": [
    "geosketch_subsample(adata_brca, filename='brca_raw_geosketch.h5ad', raw=True)"
   ]
  },
  {
   "cell_type": "code",
   "execution_count": null,
   "metadata": {},
   "outputs": [],
   "source": [
    "geosketch_subsample(adata_martin, filename='martin_raw_geosketch.h5ad', raw=True)"
   ]
  },
  {
   "cell_type": "code",
   "execution_count": null,
   "metadata": {},
   "outputs": [],
   "source": [
    "adata_crc_geo = geosketch_subsample(adata_crc, filename='crc_raw_geosketch.h5ad', raw=False)"
   ]
  },
  {
   "cell_type": "markdown",
   "metadata": {},
   "source": [
    "keep_keys = ['louvain', 'louvain_colors', 'neighbors', 'pca', 'rank_genes_groups']\n",
    "ks = adata_martin.uns.copy().keys()\n",
    "for k in ks:\n",
    "    if k not in keep_keys:\n",
    "        adata_martin.uns.pop(k, None)\n",
    "        \n",
    "ks = adata_brca.uns.copy().keys()\n",
    "for k in ks:\n",
    "    if k not in keep_keys:\n",
    "        adata_brca.uns.pop(k, None)"
   ]
  },
  {
   "cell_type": "markdown",
   "metadata": {},
   "source": [
    "### brca select only tumour patients & non sparse data"
   ]
  },
  {
   "cell_type": "code",
   "execution_count": null,
   "metadata": {},
   "outputs": [],
   "source": [
    "# only select tumour samples\n",
    "idx = adata_brca.obs.index\n",
    "new_idx = []\n",
    "\n",
    "for i, value in enumerate(idx):\n",
    "    if 'TUMOR' in value:\n",
    "        new_idx.append(i)\n",
    "        \n"
   ]
  },
  {
   "cell_type": "code",
   "execution_count": null,
   "metadata": {},
   "outputs": [],
   "source": [
    "brca_tumour = adata_brca[new_idx].copy()"
   ]
  },
  {
   "cell_type": "code",
   "execution_count": null,
   "metadata": {},
   "outputs": [],
   "source": [
    "idx = brca_tumour.obs.index\n",
    "new_idx = [i.replace('_','-') for i in idx]\n",
    "brca_tumour.obs.index = new_idx"
   ]
  },
  {
   "cell_type": "code",
   "execution_count": null,
   "metadata": {},
   "outputs": [],
   "source": [
    "# export raw\n",
    "obs = brca_tumour.obs\n",
    "var = brca_tumour.raw.var\n",
    "uns = brca_tumour.uns\n",
    "raw = brca_tumour.raw\n",
    "\n",
    "brca_tumour_raw = anndata.AnnData(raw.X, obs=obs, var=var, uns=uns, raw=raw)\n",
    "brca_tumour_raw.write(os.path.join('./', 'brca_raw_tumour_only.h5ad'))"
   ]
  },
  {
   "cell_type": "code",
   "execution_count": null,
   "metadata": {},
   "outputs": [],
   "source": [
    "brca_tumour_raw_annot = brca_tumour_raw.obs['celltype_dream']\n",
    "brca_tumour_raw_annot.to_csv('./brca_tumor_annot.csv', index=False, header=False)"
   ]
  },
  {
   "cell_type": "code",
   "execution_count": null,
   "metadata": {},
   "outputs": [],
   "source": [
    "brca_tumour_raw.obs.head()"
   ]
  },
  {
   "cell_type": "markdown",
   "metadata": {},
   "source": [
    "### Subset adata.raw\n"
   ]
  },
  {
   "cell_type": "code",
   "execution_count": null,
   "metadata": {},
   "outputs": [],
   "source": [
    "idx = adata_martin_sub.obs.index\n",
    "geo_idx = adata_martin.obs.index.isin(idx)\n",
    "rawX = adata_martin.raw.X[geo_idx]"
   ]
  },
  {
   "cell_type": "code",
   "execution_count": null,
   "metadata": {},
   "outputs": [],
   "source": []
  },
  {
   "cell_type": "code",
   "execution_count": null,
   "metadata": {},
   "outputs": [],
   "source": [
    "# dirty way\n",
    "obs = adata_martin_sub.obs\n",
    "var = adata_martin_sub.raw.var\n",
    "uns = adata_martin_sub.uns\n",
    "raw = adata_martin_sub.raw\n",
    "\n",
    "adata_martin_raw = anndata.AnnData(raw.X, obs=obs, var=var, uns=uns, raw=raw)\n",
    "adata_martin_raw.write('martin_geosketch_raw.h5ad')"
   ]
  },
  {
   "cell_type": "code",
   "execution_count": null,
   "metadata": {},
   "outputs": [],
   "source": [
    "obs = adata_brca_sub.obs\n",
    "var = adata_brca_sub.raw.var\n",
    "uns = adata_brca_sub.uns\n",
    "raw = adata_brca_sub.raw\n",
    "\n",
    "adata_brca_raw = anndata.AnnData(raw.X, obs=obs, var=var, uns=uns, raw=raw)\n",
    "adata_brca_raw.write('brca_geosketch_raw.h5ad')"
   ]
  },
  {
   "cell_type": "code",
   "execution_count": null,
   "metadata": {},
   "outputs": [],
   "source": [
    "\n",
    "obs = adata_crc_geo.obs\n",
    "var = adata_crc_geo.raw.var\n",
    "uns = adata_crc_geo.uns\n",
    "raw = adata_crc_geo.raw\n",
    "\n",
    "adata_crc_raw = anndata.AnnData(raw.X, obs=obs, var=var, uns=uns, raw=raw)\n",
    "adata_crc_raw.write('crc_raw_geosketch.h5ad')"
   ]
  },
  {
   "cell_type": "markdown",
   "metadata": {},
   "source": [
    "set raw.X as X for full non-geoskchetch dataset"
   ]
  },
  {
   "cell_type": "code",
   "execution_count": null,
   "metadata": {},
   "outputs": [],
   "source": [
    "adata_brca\n",
    "adata_martin"
   ]
  },
  {
   "cell_type": "code",
   "execution_count": null,
   "metadata": {},
   "outputs": [],
   "source": [
    "obs = adata_brca.obs\n",
    "var = adata_brca.raw.var\n",
    "uns = adata_brca.uns\n",
    "raw = adata_brca.raw\n",
    "\n",
    "adata_brca_raw = anndata.AnnData(raw.X, obs=obs, var=var, uns=uns, raw=raw)\n",
    "adata_brca_raw.write('brca_raw.h5ad')"
   ]
  },
  {
   "cell_type": "code",
   "execution_count": null,
   "metadata": {},
   "outputs": [],
   "source": [
    "obs = adata_martin.obs\n",
    "var = adata_martin.raw.var\n",
    "uns = adata_martin.uns\n",
    "raw = adata_martin.raw\n",
    "\n",
    "adata_martin_raw = anndata.AnnData(raw.X, obs=obs, var=var, uns=uns, raw=raw)\n",
    "adata_martin_raw.write('martin_raw.h5ad')"
   ]
  },
  {
   "cell_type": "markdown",
   "metadata": {},
   "source": [
    "### Martin data - are there too many missing cell types?"
   ]
  },
  {
   "cell_type": "code",
   "execution_count": null,
   "metadata": {},
   "outputs": [],
   "source": [
    "adata_martin.obs.loc[adata_martin.obs['Subject'] == 'pat. 5']['celltype_dream'].unique()"
   ]
  },
  {
   "cell_type": "code",
   "execution_count": null,
   "metadata": {},
   "outputs": [],
   "source": [
    "adata_martin_geo_raw.obs.loc[adata_martin_geo_raw.obs['Subject'] == 'pat. 5']['celltype_dream'].unique()"
   ]
  },
  {
   "cell_type": "code",
   "execution_count": null,
   "metadata": {},
   "outputs": [],
   "source": [
    "adata_brca.obs.head()"
   ]
  },
  {
   "cell_type": "code",
   "execution_count": null,
   "metadata": {},
   "outputs": [],
   "source": [
    "adata_brca.obs.loc[adata_brca.obs['ID'] == 'BC01_BLOOD1']['celltype_dream'].unique()"
   ]
  },
  {
   "cell_type": "code",
   "execution_count": null,
   "metadata": {},
   "outputs": [],
   "source": [
    "adata_brca_geo_raw.obs.loc[adata_brca_geo_raw.obs['ID'] == 'BC01_BLOOD1']['celltype_dream'].unique()"
   ]
  },
  {
   "cell_type": "code",
   "execution_count": null,
   "metadata": {},
   "outputs": [],
   "source": []
  },
  {
   "cell_type": "markdown",
   "metadata": {},
   "source": [
    "### Fix martin index - for BisqueRNA::SeuratToExpressionSet()\n",
    "currently splitting with this index gives two labels per individual as follows"
   ]
  },
  {
   "cell_type": "code",
   "execution_count": null,
   "metadata": {},
   "outputs": [],
   "source": [
    "idx5 = adata_martin_geo_raw.obs.loc[adata_martin_geo_raw.obs['Subject']=='pat. 5'].index\n",
    "ids5 = []\n",
    "for i in idx5:\n",
    "    ids5.append(i.split('.')[0])\n",
    "len(set(ids5))\n",
    "set(ids5)"
   ]
  },
  {
   "cell_type": "markdown",
   "metadata": {},
   "source": [
    "thus fix index"
   ]
  },
  {
   "cell_type": "code",
   "execution_count": null,
   "metadata": {
    "scrolled": true
   },
   "outputs": [],
   "source": [
    "idx = adata_martin.obs.index\n",
    "idx_new = []\n",
    "for i, val in enumerate(idx):\n",
    "    out = adata_martin.obs['Subject'][i].replace(\" \", \"\").replace('.','') + '_' + val.split('_')[1]\n",
    "    idx_new.append(out)"
   ]
  },
  {
   "cell_type": "code",
   "execution_count": null,
   "metadata": {},
   "outputs": [],
   "source": [
    "adata_martin.obs.index = idx_new"
   ]
  },
  {
   "cell_type": "code",
   "execution_count": null,
   "metadata": {},
   "outputs": [],
   "source": [
    "adata_martin.obs.head()"
   ]
  },
  {
   "cell_type": "markdown",
   "metadata": {},
   "source": [
    "### geosketch output analysis\n",
    "\n",
    "check if all subjects still represented, likewise for cell types"
   ]
  },
  {
   "cell_type": "code",
   "execution_count": null,
   "metadata": {},
   "outputs": [],
   "source": [
    "# 11 samples in orig ds\n",
    "adata_martin.obs['Subject'].values.unique()"
   ]
  },
  {
   "cell_type": "code",
   "execution_count": null,
   "metadata": {},
   "outputs": [],
   "source": [
    "# 50 samples in original ds\n",
    "adata_brca.obs['ID'].values.unique()"
   ]
  },
  {
   "cell_type": "code",
   "execution_count": null,
   "metadata": {},
   "outputs": [],
   "source": [
    "adata_brca_geo_raw = sc.read('./brca_geosketch_raw.h5ad')\n",
    "adata_martin_geo_raw = sc.read('./martin_geosketch_raw.h5ad')"
   ]
  },
  {
   "cell_type": "code",
   "execution_count": null,
   "metadata": {},
   "outputs": [],
   "source": [
    "# still 11 subjects\n",
    "adata_martin_geo.obs['Subject'].values.unique()"
   ]
  },
  {
   "cell_type": "code",
   "execution_count": null,
   "metadata": {},
   "outputs": [],
   "source": [
    "# still 50 subjects\n",
    "adata_brca_geo_raw.obs['ID'].values.unique()"
   ]
  },
  {
   "cell_type": "markdown",
   "metadata": {},
   "source": [
    "now check cell types"
   ]
  },
  {
   "cell_type": "code",
   "execution_count": null,
   "metadata": {},
   "outputs": [],
   "source": [
    "# geosketch missing 'naive.CD8.T.cells'\n",
    "x = adata_brca.obs['celltype_dream'].values.unique().tolist()\n",
    "y = adata_brca_geo_raw.obs['celltype_dream'].values.unique().tolist()\n",
    "set(x) - set(y)"
   ]
  },
  {
   "cell_type": "code",
   "execution_count": null,
   "metadata": {},
   "outputs": [],
   "source": [
    "# geosketch missing 'naive.CD8.T.cells'\n",
    "x = adata_martin.obs['celltype_dream'].values.unique().tolist()\n",
    "y = adata_martin_geo_raw.obs['celltype_dream'].values.unique().tolist()\n",
    "set(x) - set(y)"
   ]
  },
  {
   "cell_type": "markdown",
   "metadata": {},
   "source": [
    "### Convert to SingleCellExperiment R Object\n",
    "\n",
    "saves anndata as SCE object. Postprocess in R\n",
    "\n",
    "based on tutorial here: https://github.com/LuckyMD/Code_snippets/blob/master/Seurat_to_anndata.ipynb"
   ]
  },
  {
   "cell_type": "code",
   "execution_count": null,
   "metadata": {},
   "outputs": [],
   "source": [
    "import anndata2ri\n",
    "anndata2ri.activate()"
   ]
  },
  {
   "cell_type": "code",
   "execution_count": null,
   "metadata": {},
   "outputs": [],
   "source": [
    "%load_ext rpy2.ipython"
   ]
  },
  {
   "cell_type": "code",
   "execution_count": null,
   "metadata": {},
   "outputs": [],
   "source": [
    "%%R -i brca_tumour_raw\n",
    "saveRDS(brca_tumour_raw, 'brca_raw_tumour_only_sce.RDS')"
   ]
  },
  {
   "cell_type": "code",
   "execution_count": null,
   "metadata": {},
   "outputs": [],
   "source": [
    "%%R -i adata_brca_raw\n",
    "saveRDS(adata_brca_raw, 'brca_raw_sce.RDS')"
   ]
  },
  {
   "cell_type": "code",
   "execution_count": null,
   "metadata": {},
   "outputs": [],
   "source": [
    "# do brca\n",
    "adata_brca_sub = sc.read('brca_geosketch.h5ad')"
   ]
  },
  {
   "cell_type": "code",
   "execution_count": null,
   "metadata": {},
   "outputs": [],
   "source": [
    "%%R -i adata_brca_sub\n",
    "saveRDS(adata_brca_sub, 'brca_sce.RDS')"
   ]
  },
  {
   "cell_type": "code",
   "execution_count": null,
   "metadata": {},
   "outputs": [],
   "source": [
    "%%R -i adata_martin_raw\n",
    "saveRDS(adata_martin_raw, 'martin_raw_sce.RDS')"
   ]
  },
  {
   "cell_type": "code",
   "execution_count": null,
   "metadata": {},
   "outputs": [],
   "source": [
    "%%R -i adata_brca_raw\n",
    "saveRDS(adata_brca_raw, 'brca_raw_sce.RDS')"
   ]
  },
  {
   "cell_type": "code",
   "execution_count": null,
   "metadata": {
    "scrolled": true
   },
   "outputs": [],
   "source": [
    "#%%R -i adata_martin\n",
    "#library(Seurat)\n",
    "#martin.seurat <- as.Seurat(adata_martin)\n",
    "#saveRDS(martin.seurat, 'martin_seurat.RDS')"
   ]
  },
  {
   "cell_type": "markdown",
   "metadata": {},
   "source": [
    "### Notes converting SCE to eset in R\n",
    "\n",
    "run from cmd line: `env R_MAX_VSIZE=100Gb R`"
   ]
  },
  {
   "cell_type": "markdown",
   "metadata": {},
   "source": [
    "### Fix issues loading martin ds in R ReadH5AD: \n",
    "Error in file[[\"obs\"]][] : object of type 'environment' is not subsettable\n",
    "\n",
    "Note: these were not needed. the issue was with a bug in AnnData new version: https://github.com/satijalab/seurat/issues/2485"
   ]
  },
  {
   "cell_type": "code",
   "execution_count": null,
   "metadata": {},
   "outputs": [],
   "source": [
    "adata_martin_sub.obs.head()\n",
    "# thus in R: \n",
    "# out.eset <- BisqueRNA::SeuratToExpressionSet(seurat, delimiter='_', position=2, version = 'v3')"
   ]
  },
  {
   "cell_type": "code",
   "execution_count": null,
   "metadata": {},
   "outputs": [],
   "source": [
    "adata_brca_sub.obs.head()\n"
   ]
  },
  {
   "cell_type": "code",
   "execution_count": null,
   "metadata": {},
   "outputs": [],
   "source": [
    "adata_martin.obs.columns"
   ]
  },
  {
   "cell_type": "code",
   "execution_count": null,
   "metadata": {},
   "outputs": [],
   "source": [
    "rmkeys = ['neighbors', 'pca', 'rank_genes_groups', 'celltype_dream_colors']\n",
    "for key in rmkeys:\n",
    "    adata_martin.uns.pop(key, None)"
   ]
  },
  {
   "cell_type": "code",
   "execution_count": null,
   "metadata": {},
   "outputs": [],
   "source": [
    "adata_martin.uns.keys()"
   ]
  },
  {
   "cell_type": "code",
   "execution_count": null,
   "metadata": {},
   "outputs": [],
   "source": [
    "keep_keys = ['louvain', 'louvain_colors', 'neighbors', 'pca', 'rank_genes_groups']\n",
    "ks = adata_martin.uns.copy().keys()\n",
    "for k in ks:\n",
    "    if k not in keep_keys:\n",
    "        adata_martin.uns.pop(k, None)"
   ]
  },
  {
   "cell_type": "code",
   "execution_count": null,
   "metadata": {},
   "outputs": [],
   "source": [
    "adata_martin.write(filename='./martin_anndata07rc1.h5ad')"
   ]
  },
  {
   "cell_type": "markdown",
   "metadata": {},
   "source": [
    "### Check SCDC error\n",
    "Error in y[y < q15] <- q15[y < q15] :\n",
    "NAs are not allowed in subscripted assignments\n",
    "In addition: There were 50 or more warnings (use warnings() to see the first 50)\n",
    "\n",
    "In FUN(newX[, i], ...) : no non-missing arguments to max; returning -Inf"
   ]
  },
  {
   "cell_type": "code",
   "execution_count": null,
   "metadata": {},
   "outputs": [],
   "source": [
    "# check if NaNs in datasets\n",
    "np.isnan(adata_martin.X).any()"
   ]
  },
  {
   "cell_type": "code",
   "execution_count": null,
   "metadata": {},
   "outputs": [],
   "source": [
    "np.isnan(adata_brca.X).any()"
   ]
  },
  {
   "cell_type": "markdown",
   "metadata": {},
   "source": [
    "### reduce number of features\n",
    "\n",
    "scdc too slow"
   ]
  },
  {
   "cell_type": "code",
   "execution_count": null,
   "metadata": {},
   "outputs": [],
   "source": [
    "# remove others?\n",
    "adata_brca.obs.loc[adata_brca.obs['celltype_dream']=='others']"
   ]
  },
  {
   "cell_type": "code",
   "execution_count": null,
   "metadata": {},
   "outputs": [],
   "source": [
    "adata_martin.obs.loc[adata_martin.obs['celltype_dream']=='others']"
   ]
  },
  {
   "cell_type": "markdown",
   "metadata": {},
   "source": [
    "### determine missing celltypes for each dataset "
   ]
  },
  {
   "cell_type": "code",
   "execution_count": null,
   "metadata": {},
   "outputs": [],
   "source": [
    "ct_b = adata_brca.obs['celltype_dream'].values.unique().tolist()"
   ]
  },
  {
   "cell_type": "code",
   "execution_count": null,
   "metadata": {},
   "outputs": [],
   "source": [
    "ct_m = adata_martin.obs['celltype_dream'].values.unique().tolist()"
   ]
  },
  {
   "cell_type": "code",
   "execution_count": null,
   "metadata": {},
   "outputs": [],
   "source": [
    "ct_s = adata_smillie.obs['celltype_dream'].values.unique().tolist()"
   ]
  },
  {
   "cell_type": "code",
   "execution_count": null,
   "metadata": {},
   "outputs": [],
   "source": [
    "# dream celltypes \n",
    "ct = \"\"\"memory.B.cells\n",
    "naive.B.cells\n",
    "memory.CD4.T.cells\n",
    "naive.CD4.T.cells\n",
    "regulatory.T.cells\n",
    "memory.CD8.T.cells\n",
    "naive.CD8.T.cells\n",
    "NK.cells\n",
    "neutrophils\n",
    "monocytes\n",
    "myeloid.dendritic.cells\n",
    "macrophages\n",
    "fibroblasts\n",
    "endothelial.cells\"\"\".split()"
   ]
  },
  {
   "cell_type": "code",
   "execution_count": null,
   "metadata": {},
   "outputs": [],
   "source": [
    "# intersection dream x brca\n",
    "set(ct) & set(ct_b)"
   ]
  },
  {
   "cell_type": "code",
   "execution_count": null,
   "metadata": {},
   "outputs": [],
   "source": [
    "list(set(ct) - set(ct_m))"
   ]
  },
  {
   "cell_type": "code",
   "execution_count": null,
   "metadata": {},
   "outputs": [],
   "source": [
    "# brca dataset has all required celltypes\n",
    "list(set(ct) - set(ct_b))"
   ]
  },
  {
   "cell_type": "code",
   "execution_count": null,
   "metadata": {},
   "outputs": [],
   "source": [
    "# intersect brca x martin\n",
    "set(ct_b) & set(ct_m)"
   ]
  },
  {
   "cell_type": "code",
   "execution_count": null,
   "metadata": {},
   "outputs": [],
   "source": [
    "# brca x smillie\n",
    "set(ct_b) & set(ct_s)"
   ]
  },
  {
   "cell_type": "code",
   "execution_count": null,
   "metadata": {},
   "outputs": [],
   "source": [
    "print(','.join(\"'{0}'\".format(w) for w in ct))"
   ]
  },
  {
   "cell_type": "markdown",
   "metadata": {},
   "source": [
    "'memory.B.cells','naive.B.cells','memory.CD4.T.cells','naive.CD4.T.cells','regulatory.T.cells','memory.CD8.T.cells','naive.CD8.T.cells','NK.cells','neutrophils','monocytes','myeloid.dendritic.cells','macrophages','fibroblasts','endothelial.cells'"
   ]
  }
 ],
 "metadata": {
  "kernelspec": {
   "display_name": "Python 3",
   "language": "python",
   "name": "python3"
  },
  "language_info": {
   "codemirror_mode": {
    "name": "ipython",
    "version": 3
   },
   "file_extension": ".py",
   "mimetype": "text/x-python",
   "name": "python",
   "nbconvert_exporter": "python",
   "pygments_lexer": "ipython3",
   "version": "3.7.7"
  }
 },
 "nbformat": 4,
 "nbformat_minor": 4
}
